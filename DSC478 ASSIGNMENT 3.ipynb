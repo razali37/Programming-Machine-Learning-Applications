{
 "cells": [
  {
   "cell_type": "markdown",
   "metadata": {},
   "source": [
    "# ASSIGNMENT 3 - NOOR RAZI ALI SYED - 2070326"
   ]
  },
  {
   "cell_type": "markdown",
   "metadata": {},
   "source": [
    "# QUESTION 1"
   ]
  },
  {
   "cell_type": "markdown",
   "metadata": {},
   "source": [
    "A.\n",
    "\n",
    "[5 pts] Load and preprocess the data using Pandas and remove the unneeded attributes. For the purpose of this assignment you do not need to normalize or standardize the data unless explicitly required in one of the following tasks. However, you may need to handle missing values by imputing those values based on variable means. Compute and display basic statistics (mean, standard deviation, min, max, etc.) for the variables in the data set. Separate the target attribute for regression. Use scikit-learn's train_test_split function to create a 20%-80% randomized split of the data (important note: for reporducible output across multiple runs, please use \"random_state = 33\"). Set aside the 20% test portion; the 80% training data partition will be used for cross-validation on various tasks specified below."
   ]
  },
  {
   "cell_type": "code",
   "execution_count": 7,
   "metadata": {},
   "outputs": [],
   "source": [
    "#LOADING THE PACKAGES\n",
    "import pandas as pd\n",
    "import numpy as np\n",
    "import pylab as pl\n",
    "import seaborn as sns\n",
    "import matplotlib.pyplot as plt\n",
    "%matplotlib inline"
   ]
  },
  {
   "cell_type": "code",
   "execution_count": 2,
   "metadata": {},
   "outputs": [],
   "source": [
    "community_data = pd.read_csv(\"communities.csv\", na_values =[\"?\", \"Null\", \"missing\"])"
   ]
  },
  {
   "cell_type": "code",
   "execution_count": 3,
   "metadata": {},
   "outputs": [
    {
     "data": {
      "text/html": [
       "<div>\n",
       "<style scoped>\n",
       "    .dataframe tbody tr th:only-of-type {\n",
       "        vertical-align: middle;\n",
       "    }\n",
       "\n",
       "    .dataframe tbody tr th {\n",
       "        vertical-align: top;\n",
       "    }\n",
       "\n",
       "    .dataframe thead th {\n",
       "        text-align: right;\n",
       "    }\n",
       "</style>\n",
       "<table border=\"1\" class=\"dataframe\">\n",
       "  <thead>\n",
       "    <tr style=\"text-align: right;\">\n",
       "      <th></th>\n",
       "      <th>state</th>\n",
       "      <th>communityname</th>\n",
       "      <th>population</th>\n",
       "      <th>householdsize</th>\n",
       "      <th>racepctblack</th>\n",
       "      <th>racePctWhite</th>\n",
       "      <th>racePctAsian</th>\n",
       "      <th>racePctHisp</th>\n",
       "      <th>agePct12t21</th>\n",
       "      <th>agePct12t29</th>\n",
       "      <th>...</th>\n",
       "      <th>NumStreet</th>\n",
       "      <th>PctForeignBorn</th>\n",
       "      <th>PctBornSameState</th>\n",
       "      <th>PctSameHouse85</th>\n",
       "      <th>PctSameCity85</th>\n",
       "      <th>PctSameState85</th>\n",
       "      <th>LandArea</th>\n",
       "      <th>PopDens</th>\n",
       "      <th>PctUsePubTrans</th>\n",
       "      <th>ViolentCrimesPerPop</th>\n",
       "    </tr>\n",
       "  </thead>\n",
       "  <tbody>\n",
       "    <tr>\n",
       "      <th>0</th>\n",
       "      <td>8</td>\n",
       "      <td>Lakewoodcity</td>\n",
       "      <td>0.19</td>\n",
       "      <td>0.33</td>\n",
       "      <td>0.02</td>\n",
       "      <td>0.90</td>\n",
       "      <td>0.12</td>\n",
       "      <td>0.17</td>\n",
       "      <td>0.34</td>\n",
       "      <td>0.47</td>\n",
       "      <td>...</td>\n",
       "      <td>0.0</td>\n",
       "      <td>0.12</td>\n",
       "      <td>0.42</td>\n",
       "      <td>0.50</td>\n",
       "      <td>0.51</td>\n",
       "      <td>0.64</td>\n",
       "      <td>0.12</td>\n",
       "      <td>0.26</td>\n",
       "      <td>0.20</td>\n",
       "      <td>0.20</td>\n",
       "    </tr>\n",
       "    <tr>\n",
       "      <th>1</th>\n",
       "      <td>53</td>\n",
       "      <td>Tukwilacity</td>\n",
       "      <td>0.00</td>\n",
       "      <td>0.16</td>\n",
       "      <td>0.12</td>\n",
       "      <td>0.74</td>\n",
       "      <td>0.45</td>\n",
       "      <td>0.07</td>\n",
       "      <td>0.26</td>\n",
       "      <td>0.59</td>\n",
       "      <td>...</td>\n",
       "      <td>0.0</td>\n",
       "      <td>0.21</td>\n",
       "      <td>0.50</td>\n",
       "      <td>0.34</td>\n",
       "      <td>0.60</td>\n",
       "      <td>0.52</td>\n",
       "      <td>0.02</td>\n",
       "      <td>0.12</td>\n",
       "      <td>0.45</td>\n",
       "      <td>0.67</td>\n",
       "    </tr>\n",
       "    <tr>\n",
       "      <th>2</th>\n",
       "      <td>24</td>\n",
       "      <td>Aberdeentown</td>\n",
       "      <td>0.00</td>\n",
       "      <td>0.42</td>\n",
       "      <td>0.49</td>\n",
       "      <td>0.56</td>\n",
       "      <td>0.17</td>\n",
       "      <td>0.04</td>\n",
       "      <td>0.39</td>\n",
       "      <td>0.47</td>\n",
       "      <td>...</td>\n",
       "      <td>0.0</td>\n",
       "      <td>0.14</td>\n",
       "      <td>0.49</td>\n",
       "      <td>0.54</td>\n",
       "      <td>0.67</td>\n",
       "      <td>0.56</td>\n",
       "      <td>0.01</td>\n",
       "      <td>0.21</td>\n",
       "      <td>0.02</td>\n",
       "      <td>0.43</td>\n",
       "    </tr>\n",
       "    <tr>\n",
       "      <th>3</th>\n",
       "      <td>34</td>\n",
       "      <td>Willingborotownship</td>\n",
       "      <td>0.04</td>\n",
       "      <td>0.77</td>\n",
       "      <td>1.00</td>\n",
       "      <td>0.08</td>\n",
       "      <td>0.12</td>\n",
       "      <td>0.10</td>\n",
       "      <td>0.51</td>\n",
       "      <td>0.50</td>\n",
       "      <td>...</td>\n",
       "      <td>0.0</td>\n",
       "      <td>0.19</td>\n",
       "      <td>0.30</td>\n",
       "      <td>0.73</td>\n",
       "      <td>0.64</td>\n",
       "      <td>0.65</td>\n",
       "      <td>0.02</td>\n",
       "      <td>0.39</td>\n",
       "      <td>0.28</td>\n",
       "      <td>0.12</td>\n",
       "    </tr>\n",
       "    <tr>\n",
       "      <th>4</th>\n",
       "      <td>42</td>\n",
       "      <td>Bethlehemtownship</td>\n",
       "      <td>0.01</td>\n",
       "      <td>0.55</td>\n",
       "      <td>0.02</td>\n",
       "      <td>0.95</td>\n",
       "      <td>0.09</td>\n",
       "      <td>0.05</td>\n",
       "      <td>0.38</td>\n",
       "      <td>0.38</td>\n",
       "      <td>...</td>\n",
       "      <td>0.0</td>\n",
       "      <td>0.11</td>\n",
       "      <td>0.72</td>\n",
       "      <td>0.64</td>\n",
       "      <td>0.61</td>\n",
       "      <td>0.53</td>\n",
       "      <td>0.04</td>\n",
       "      <td>0.09</td>\n",
       "      <td>0.02</td>\n",
       "      <td>0.03</td>\n",
       "    </tr>\n",
       "  </tbody>\n",
       "</table>\n",
       "<p>5 rows × 100 columns</p>\n",
       "</div>"
      ],
      "text/plain": [
       "   state        communityname  population  householdsize  racepctblack  \\\n",
       "0      8         Lakewoodcity        0.19           0.33          0.02   \n",
       "1     53          Tukwilacity        0.00           0.16          0.12   \n",
       "2     24         Aberdeentown        0.00           0.42          0.49   \n",
       "3     34  Willingborotownship        0.04           0.77          1.00   \n",
       "4     42    Bethlehemtownship        0.01           0.55          0.02   \n",
       "\n",
       "   racePctWhite  racePctAsian  racePctHisp  agePct12t21  agePct12t29  ...  \\\n",
       "0          0.90          0.12         0.17         0.34         0.47  ...   \n",
       "1          0.74          0.45         0.07         0.26         0.59  ...   \n",
       "2          0.56          0.17         0.04         0.39         0.47  ...   \n",
       "3          0.08          0.12         0.10         0.51         0.50  ...   \n",
       "4          0.95          0.09         0.05         0.38         0.38  ...   \n",
       "\n",
       "   NumStreet  PctForeignBorn  PctBornSameState  PctSameHouse85  PctSameCity85  \\\n",
       "0        0.0            0.12              0.42            0.50           0.51   \n",
       "1        0.0            0.21              0.50            0.34           0.60   \n",
       "2        0.0            0.14              0.49            0.54           0.67   \n",
       "3        0.0            0.19              0.30            0.73           0.64   \n",
       "4        0.0            0.11              0.72            0.64           0.61   \n",
       "\n",
       "   PctSameState85  LandArea  PopDens  PctUsePubTrans  ViolentCrimesPerPop  \n",
       "0            0.64      0.12     0.26            0.20                 0.20  \n",
       "1            0.52      0.02     0.12            0.45                 0.67  \n",
       "2            0.56      0.01     0.21            0.02                 0.43  \n",
       "3            0.65      0.02     0.39            0.28                 0.12  \n",
       "4            0.53      0.04     0.09            0.02                 0.03  \n",
       "\n",
       "[5 rows x 100 columns]"
      ]
     },
     "execution_count": 3,
     "metadata": {},
     "output_type": "execute_result"
    }
   ],
   "source": [
    "community_data.head()"
   ]
  },
  {
   "cell_type": "code",
   "execution_count": 19,
   "metadata": {},
   "outputs": [
    {
     "data": {
      "text/plain": [
       "array(['Lakewoodcity', 'Tukwilacity', 'Aberdeentown', ...,\n",
       "       'Waterburytown', 'Walthamcity', 'Ontariocity'], dtype=object)"
      ]
     },
     "execution_count": 19,
     "metadata": {},
     "output_type": "execute_result"
    }
   ],
   "source": [
    "community_data['communityname'].unique()"
   ]
  },
  {
   "cell_type": "code",
   "execution_count": 4,
   "metadata": {},
   "outputs": [
    {
     "data": {
      "text/plain": [
       "(1994, 100)"
      ]
     },
     "execution_count": 4,
     "metadata": {},
     "output_type": "execute_result"
    }
   ],
   "source": [
    "community_data.shape"
   ]
  },
  {
   "cell_type": "code",
   "execution_count": 5,
   "metadata": {},
   "outputs": [
    {
     "data": {
      "text/plain": [
       "state                  0\n",
       "communityname          0\n",
       "population             0\n",
       "householdsize          0\n",
       "racepctblack           0\n",
       "                      ..\n",
       "PctSameState85         0\n",
       "LandArea               0\n",
       "PopDens                0\n",
       "PctUsePubTrans         0\n",
       "ViolentCrimesPerPop    0\n",
       "Length: 100, dtype: int64"
      ]
     },
     "execution_count": 5,
     "metadata": {},
     "output_type": "execute_result"
    }
   ],
   "source": [
    "community_data.isnull().sum()"
   ]
  },
  {
   "cell_type": "code",
   "execution_count": 6,
   "metadata": {},
   "outputs": [
    {
     "data": {
      "text/html": [
       "<div>\n",
       "<style scoped>\n",
       "    .dataframe tbody tr th:only-of-type {\n",
       "        vertical-align: middle;\n",
       "    }\n",
       "\n",
       "    .dataframe tbody tr th {\n",
       "        vertical-align: top;\n",
       "    }\n",
       "\n",
       "    .dataframe thead th {\n",
       "        text-align: right;\n",
       "    }\n",
       "</style>\n",
       "<table border=\"1\" class=\"dataframe\">\n",
       "  <thead>\n",
       "    <tr style=\"text-align: right;\">\n",
       "      <th></th>\n",
       "      <th>state</th>\n",
       "      <th>communityname</th>\n",
       "      <th>population</th>\n",
       "      <th>householdsize</th>\n",
       "      <th>racepctblack</th>\n",
       "      <th>racePctWhite</th>\n",
       "      <th>racePctAsian</th>\n",
       "      <th>racePctHisp</th>\n",
       "      <th>agePct12t21</th>\n",
       "      <th>agePct12t29</th>\n",
       "      <th>...</th>\n",
       "      <th>NumStreet</th>\n",
       "      <th>PctForeignBorn</th>\n",
       "      <th>PctBornSameState</th>\n",
       "      <th>PctSameHouse85</th>\n",
       "      <th>PctSameCity85</th>\n",
       "      <th>PctSameState85</th>\n",
       "      <th>LandArea</th>\n",
       "      <th>PopDens</th>\n",
       "      <th>PctUsePubTrans</th>\n",
       "      <th>ViolentCrimesPerPop</th>\n",
       "    </tr>\n",
       "  </thead>\n",
       "  <tbody>\n",
       "    <tr>\n",
       "      <th>count</th>\n",
       "      <td>1994.000000</td>\n",
       "      <td>1994</td>\n",
       "      <td>1994.000000</td>\n",
       "      <td>1994.000000</td>\n",
       "      <td>1994.000000</td>\n",
       "      <td>1994.000000</td>\n",
       "      <td>1994.000000</td>\n",
       "      <td>1994.000000</td>\n",
       "      <td>1994.000000</td>\n",
       "      <td>1994.000000</td>\n",
       "      <td>...</td>\n",
       "      <td>1994.000000</td>\n",
       "      <td>1994.000000</td>\n",
       "      <td>1994.000000</td>\n",
       "      <td>1994.000000</td>\n",
       "      <td>1994.000000</td>\n",
       "      <td>1994.000000</td>\n",
       "      <td>1994.000000</td>\n",
       "      <td>1994.000000</td>\n",
       "      <td>1994.000000</td>\n",
       "      <td>1994.000000</td>\n",
       "    </tr>\n",
       "    <tr>\n",
       "      <th>unique</th>\n",
       "      <td>NaN</td>\n",
       "      <td>1828</td>\n",
       "      <td>NaN</td>\n",
       "      <td>NaN</td>\n",
       "      <td>NaN</td>\n",
       "      <td>NaN</td>\n",
       "      <td>NaN</td>\n",
       "      <td>NaN</td>\n",
       "      <td>NaN</td>\n",
       "      <td>NaN</td>\n",
       "      <td>...</td>\n",
       "      <td>NaN</td>\n",
       "      <td>NaN</td>\n",
       "      <td>NaN</td>\n",
       "      <td>NaN</td>\n",
       "      <td>NaN</td>\n",
       "      <td>NaN</td>\n",
       "      <td>NaN</td>\n",
       "      <td>NaN</td>\n",
       "      <td>NaN</td>\n",
       "      <td>NaN</td>\n",
       "    </tr>\n",
       "    <tr>\n",
       "      <th>top</th>\n",
       "      <td>NaN</td>\n",
       "      <td>Auburncity</td>\n",
       "      <td>NaN</td>\n",
       "      <td>NaN</td>\n",
       "      <td>NaN</td>\n",
       "      <td>NaN</td>\n",
       "      <td>NaN</td>\n",
       "      <td>NaN</td>\n",
       "      <td>NaN</td>\n",
       "      <td>NaN</td>\n",
       "      <td>...</td>\n",
       "      <td>NaN</td>\n",
       "      <td>NaN</td>\n",
       "      <td>NaN</td>\n",
       "      <td>NaN</td>\n",
       "      <td>NaN</td>\n",
       "      <td>NaN</td>\n",
       "      <td>NaN</td>\n",
       "      <td>NaN</td>\n",
       "      <td>NaN</td>\n",
       "      <td>NaN</td>\n",
       "    </tr>\n",
       "    <tr>\n",
       "      <th>freq</th>\n",
       "      <td>NaN</td>\n",
       "      <td>5</td>\n",
       "      <td>NaN</td>\n",
       "      <td>NaN</td>\n",
       "      <td>NaN</td>\n",
       "      <td>NaN</td>\n",
       "      <td>NaN</td>\n",
       "      <td>NaN</td>\n",
       "      <td>NaN</td>\n",
       "      <td>NaN</td>\n",
       "      <td>...</td>\n",
       "      <td>NaN</td>\n",
       "      <td>NaN</td>\n",
       "      <td>NaN</td>\n",
       "      <td>NaN</td>\n",
       "      <td>NaN</td>\n",
       "      <td>NaN</td>\n",
       "      <td>NaN</td>\n",
       "      <td>NaN</td>\n",
       "      <td>NaN</td>\n",
       "      <td>NaN</td>\n",
       "    </tr>\n",
       "    <tr>\n",
       "      <th>mean</th>\n",
       "      <td>28.683551</td>\n",
       "      <td>NaN</td>\n",
       "      <td>0.057593</td>\n",
       "      <td>0.463395</td>\n",
       "      <td>0.179629</td>\n",
       "      <td>0.753716</td>\n",
       "      <td>0.153681</td>\n",
       "      <td>0.144022</td>\n",
       "      <td>0.424218</td>\n",
       "      <td>0.493867</td>\n",
       "      <td>...</td>\n",
       "      <td>0.022778</td>\n",
       "      <td>0.215552</td>\n",
       "      <td>0.608892</td>\n",
       "      <td>0.535050</td>\n",
       "      <td>0.626424</td>\n",
       "      <td>0.651530</td>\n",
       "      <td>0.065231</td>\n",
       "      <td>0.232854</td>\n",
       "      <td>0.161685</td>\n",
       "      <td>0.237979</td>\n",
       "    </tr>\n",
       "    <tr>\n",
       "      <th>std</th>\n",
       "      <td>16.397553</td>\n",
       "      <td>NaN</td>\n",
       "      <td>0.126906</td>\n",
       "      <td>0.163717</td>\n",
       "      <td>0.253442</td>\n",
       "      <td>0.244039</td>\n",
       "      <td>0.208877</td>\n",
       "      <td>0.232492</td>\n",
       "      <td>0.155196</td>\n",
       "      <td>0.143564</td>\n",
       "      <td>...</td>\n",
       "      <td>0.100400</td>\n",
       "      <td>0.231134</td>\n",
       "      <td>0.204329</td>\n",
       "      <td>0.181352</td>\n",
       "      <td>0.200521</td>\n",
       "      <td>0.198221</td>\n",
       "      <td>0.109459</td>\n",
       "      <td>0.203092</td>\n",
       "      <td>0.229055</td>\n",
       "      <td>0.232985</td>\n",
       "    </tr>\n",
       "    <tr>\n",
       "      <th>min</th>\n",
       "      <td>1.000000</td>\n",
       "      <td>NaN</td>\n",
       "      <td>0.000000</td>\n",
       "      <td>0.000000</td>\n",
       "      <td>0.000000</td>\n",
       "      <td>0.000000</td>\n",
       "      <td>0.000000</td>\n",
       "      <td>0.000000</td>\n",
       "      <td>0.000000</td>\n",
       "      <td>0.000000</td>\n",
       "      <td>...</td>\n",
       "      <td>0.000000</td>\n",
       "      <td>0.000000</td>\n",
       "      <td>0.000000</td>\n",
       "      <td>0.000000</td>\n",
       "      <td>0.000000</td>\n",
       "      <td>0.000000</td>\n",
       "      <td>0.000000</td>\n",
       "      <td>0.000000</td>\n",
       "      <td>0.000000</td>\n",
       "      <td>0.000000</td>\n",
       "    </tr>\n",
       "    <tr>\n",
       "      <th>25%</th>\n",
       "      <td>12.000000</td>\n",
       "      <td>NaN</td>\n",
       "      <td>0.010000</td>\n",
       "      <td>0.350000</td>\n",
       "      <td>0.020000</td>\n",
       "      <td>0.630000</td>\n",
       "      <td>0.040000</td>\n",
       "      <td>0.010000</td>\n",
       "      <td>0.340000</td>\n",
       "      <td>0.410000</td>\n",
       "      <td>...</td>\n",
       "      <td>0.000000</td>\n",
       "      <td>0.060000</td>\n",
       "      <td>0.470000</td>\n",
       "      <td>0.420000</td>\n",
       "      <td>0.520000</td>\n",
       "      <td>0.560000</td>\n",
       "      <td>0.020000</td>\n",
       "      <td>0.100000</td>\n",
       "      <td>0.020000</td>\n",
       "      <td>0.070000</td>\n",
       "    </tr>\n",
       "    <tr>\n",
       "      <th>50%</th>\n",
       "      <td>34.000000</td>\n",
       "      <td>NaN</td>\n",
       "      <td>0.020000</td>\n",
       "      <td>0.440000</td>\n",
       "      <td>0.060000</td>\n",
       "      <td>0.850000</td>\n",
       "      <td>0.070000</td>\n",
       "      <td>0.040000</td>\n",
       "      <td>0.400000</td>\n",
       "      <td>0.480000</td>\n",
       "      <td>...</td>\n",
       "      <td>0.000000</td>\n",
       "      <td>0.130000</td>\n",
       "      <td>0.630000</td>\n",
       "      <td>0.540000</td>\n",
       "      <td>0.670000</td>\n",
       "      <td>0.700000</td>\n",
       "      <td>0.040000</td>\n",
       "      <td>0.170000</td>\n",
       "      <td>0.070000</td>\n",
       "      <td>0.150000</td>\n",
       "    </tr>\n",
       "    <tr>\n",
       "      <th>75%</th>\n",
       "      <td>42.000000</td>\n",
       "      <td>NaN</td>\n",
       "      <td>0.050000</td>\n",
       "      <td>0.540000</td>\n",
       "      <td>0.230000</td>\n",
       "      <td>0.940000</td>\n",
       "      <td>0.170000</td>\n",
       "      <td>0.160000</td>\n",
       "      <td>0.470000</td>\n",
       "      <td>0.540000</td>\n",
       "      <td>...</td>\n",
       "      <td>0.000000</td>\n",
       "      <td>0.280000</td>\n",
       "      <td>0.777500</td>\n",
       "      <td>0.660000</td>\n",
       "      <td>0.770000</td>\n",
       "      <td>0.790000</td>\n",
       "      <td>0.070000</td>\n",
       "      <td>0.280000</td>\n",
       "      <td>0.190000</td>\n",
       "      <td>0.330000</td>\n",
       "    </tr>\n",
       "    <tr>\n",
       "      <th>max</th>\n",
       "      <td>56.000000</td>\n",
       "      <td>NaN</td>\n",
       "      <td>1.000000</td>\n",
       "      <td>1.000000</td>\n",
       "      <td>1.000000</td>\n",
       "      <td>1.000000</td>\n",
       "      <td>1.000000</td>\n",
       "      <td>1.000000</td>\n",
       "      <td>1.000000</td>\n",
       "      <td>1.000000</td>\n",
       "      <td>...</td>\n",
       "      <td>1.000000</td>\n",
       "      <td>1.000000</td>\n",
       "      <td>1.000000</td>\n",
       "      <td>1.000000</td>\n",
       "      <td>1.000000</td>\n",
       "      <td>1.000000</td>\n",
       "      <td>1.000000</td>\n",
       "      <td>1.000000</td>\n",
       "      <td>1.000000</td>\n",
       "      <td>1.000000</td>\n",
       "    </tr>\n",
       "  </tbody>\n",
       "</table>\n",
       "<p>11 rows × 100 columns</p>\n",
       "</div>"
      ],
      "text/plain": [
       "              state communityname   population  householdsize  racepctblack  \\\n",
       "count   1994.000000          1994  1994.000000    1994.000000   1994.000000   \n",
       "unique          NaN          1828          NaN            NaN           NaN   \n",
       "top             NaN    Auburncity          NaN            NaN           NaN   \n",
       "freq            NaN             5          NaN            NaN           NaN   \n",
       "mean      28.683551           NaN     0.057593       0.463395      0.179629   \n",
       "std       16.397553           NaN     0.126906       0.163717      0.253442   \n",
       "min        1.000000           NaN     0.000000       0.000000      0.000000   \n",
       "25%       12.000000           NaN     0.010000       0.350000      0.020000   \n",
       "50%       34.000000           NaN     0.020000       0.440000      0.060000   \n",
       "75%       42.000000           NaN     0.050000       0.540000      0.230000   \n",
       "max       56.000000           NaN     1.000000       1.000000      1.000000   \n",
       "\n",
       "        racePctWhite  racePctAsian  racePctHisp  agePct12t21  agePct12t29  \\\n",
       "count    1994.000000   1994.000000  1994.000000  1994.000000  1994.000000   \n",
       "unique           NaN           NaN          NaN          NaN          NaN   \n",
       "top              NaN           NaN          NaN          NaN          NaN   \n",
       "freq             NaN           NaN          NaN          NaN          NaN   \n",
       "mean        0.753716      0.153681     0.144022     0.424218     0.493867   \n",
       "std         0.244039      0.208877     0.232492     0.155196     0.143564   \n",
       "min         0.000000      0.000000     0.000000     0.000000     0.000000   \n",
       "25%         0.630000      0.040000     0.010000     0.340000     0.410000   \n",
       "50%         0.850000      0.070000     0.040000     0.400000     0.480000   \n",
       "75%         0.940000      0.170000     0.160000     0.470000     0.540000   \n",
       "max         1.000000      1.000000     1.000000     1.000000     1.000000   \n",
       "\n",
       "        ...    NumStreet  PctForeignBorn  PctBornSameState  PctSameHouse85  \\\n",
       "count   ...  1994.000000     1994.000000       1994.000000     1994.000000   \n",
       "unique  ...          NaN             NaN               NaN             NaN   \n",
       "top     ...          NaN             NaN               NaN             NaN   \n",
       "freq    ...          NaN             NaN               NaN             NaN   \n",
       "mean    ...     0.022778        0.215552          0.608892        0.535050   \n",
       "std     ...     0.100400        0.231134          0.204329        0.181352   \n",
       "min     ...     0.000000        0.000000          0.000000        0.000000   \n",
       "25%     ...     0.000000        0.060000          0.470000        0.420000   \n",
       "50%     ...     0.000000        0.130000          0.630000        0.540000   \n",
       "75%     ...     0.000000        0.280000          0.777500        0.660000   \n",
       "max     ...     1.000000        1.000000          1.000000        1.000000   \n",
       "\n",
       "        PctSameCity85  PctSameState85     LandArea      PopDens  \\\n",
       "count     1994.000000     1994.000000  1994.000000  1994.000000   \n",
       "unique            NaN             NaN          NaN          NaN   \n",
       "top               NaN             NaN          NaN          NaN   \n",
       "freq              NaN             NaN          NaN          NaN   \n",
       "mean         0.626424        0.651530     0.065231     0.232854   \n",
       "std          0.200521        0.198221     0.109459     0.203092   \n",
       "min          0.000000        0.000000     0.000000     0.000000   \n",
       "25%          0.520000        0.560000     0.020000     0.100000   \n",
       "50%          0.670000        0.700000     0.040000     0.170000   \n",
       "75%          0.770000        0.790000     0.070000     0.280000   \n",
       "max          1.000000        1.000000     1.000000     1.000000   \n",
       "\n",
       "        PctUsePubTrans  ViolentCrimesPerPop  \n",
       "count      1994.000000          1994.000000  \n",
       "unique             NaN                  NaN  \n",
       "top                NaN                  NaN  \n",
       "freq               NaN                  NaN  \n",
       "mean          0.161685             0.237979  \n",
       "std           0.229055             0.232985  \n",
       "min           0.000000             0.000000  \n",
       "25%           0.020000             0.070000  \n",
       "50%           0.070000             0.150000  \n",
       "75%           0.190000             0.330000  \n",
       "max           1.000000             1.000000  \n",
       "\n",
       "[11 rows x 100 columns]"
      ]
     },
     "execution_count": 6,
     "metadata": {},
     "output_type": "execute_result"
    }
   ],
   "source": [
    "community_data.describe(include = 'all')"
   ]
  },
  {
   "cell_type": "code",
   "execution_count": 7,
   "metadata": {},
   "outputs": [
    {
     "data": {
      "text/plain": [
       "1"
      ]
     },
     "execution_count": 7,
     "metadata": {},
     "output_type": "execute_result"
    }
   ],
   "source": [
    "\n",
    "\n",
    "community_data.isnull().sum().sum()\n"
   ]
  },
  {
   "cell_type": "code",
   "execution_count": 8,
   "metadata": {},
   "outputs": [],
   "source": [
    "#Replacing the OtherPerCap missing value with its mean\n",
    "OtherPerCap_mean = community_data.OtherPerCap.mean()\n",
    "community_data.OtherPerCap.fillna(OtherPerCap_mean, axis =0, inplace =True)"
   ]
  },
  {
   "cell_type": "code",
   "execution_count": 9,
   "metadata": {},
   "outputs": [
    {
     "name": "stdout",
     "output_type": "stream",
     "text": [
      "<class 'pandas.core.frame.DataFrame'>\n",
      "RangeIndex: 1994 entries, 0 to 1993\n",
      "Data columns (total 100 columns):\n",
      "state                    1994 non-null int64\n",
      "communityname            1994 non-null object\n",
      "population               1994 non-null float64\n",
      "householdsize            1994 non-null float64\n",
      "racepctblack             1994 non-null float64\n",
      "racePctWhite             1994 non-null float64\n",
      "racePctAsian             1994 non-null float64\n",
      "racePctHisp              1994 non-null float64\n",
      "agePct12t21              1994 non-null float64\n",
      "agePct12t29              1994 non-null float64\n",
      "agePct16t24              1994 non-null float64\n",
      "agePct65up               1994 non-null float64\n",
      "numbUrban                1994 non-null float64\n",
      "pctUrban                 1994 non-null float64\n",
      "medIncome                1994 non-null float64\n",
      "pctWWage                 1994 non-null float64\n",
      "pctWFarmSelf             1994 non-null float64\n",
      "pctWInvInc               1994 non-null float64\n",
      "pctWSocSec               1994 non-null float64\n",
      "pctWPubAsst              1994 non-null float64\n",
      "pctWRetire               1994 non-null float64\n",
      "medFamInc                1994 non-null float64\n",
      "perCapInc                1994 non-null float64\n",
      "whitePerCap              1994 non-null float64\n",
      "blackPerCap              1994 non-null float64\n",
      "indianPerCap             1994 non-null float64\n",
      "AsianPerCap              1994 non-null float64\n",
      "OtherPerCap              1994 non-null float64\n",
      "HispPerCap               1994 non-null float64\n",
      "NumUnderPov              1994 non-null float64\n",
      "PctPopUnderPov           1994 non-null float64\n",
      "PctLess9thGrade          1994 non-null float64\n",
      "PctNotHSGrad             1994 non-null float64\n",
      "PctBSorMore              1994 non-null float64\n",
      "PctUnemployed            1994 non-null float64\n",
      "PctEmploy                1994 non-null float64\n",
      "PctEmplManu              1994 non-null float64\n",
      "PctEmplProfServ          1994 non-null float64\n",
      "MalePctDivorce           1994 non-null float64\n",
      "MalePctNevMarr           1994 non-null float64\n",
      "FemalePctDiv             1994 non-null float64\n",
      "TotalPctDiv              1994 non-null float64\n",
      "PersPerFam               1994 non-null float64\n",
      "PctFam2Par               1994 non-null float64\n",
      "PctKids2Par              1994 non-null float64\n",
      "PctYoungKids2Par         1994 non-null float64\n",
      "PctTeen2Par              1994 non-null float64\n",
      "PctWorkMomYoungKids      1994 non-null float64\n",
      "PctWorkMom               1994 non-null float64\n",
      "NumIlleg                 1994 non-null float64\n",
      "PctIlleg                 1994 non-null float64\n",
      "NumImmig                 1994 non-null float64\n",
      "PctImmigRecent           1994 non-null float64\n",
      "PctImmigRec5             1994 non-null float64\n",
      "PctImmigRec8             1994 non-null float64\n",
      "PctImmigRec10            1994 non-null float64\n",
      "PctRecentImmig           1994 non-null float64\n",
      "PctRecImmig5             1994 non-null float64\n",
      "PctRecImmig8             1994 non-null float64\n",
      "PctRecImmig10            1994 non-null float64\n",
      "PctSpeakEnglOnly         1994 non-null float64\n",
      "PctNotSpeakEnglWell      1994 non-null float64\n",
      "PctLargHouseFam          1994 non-null float64\n",
      "PctLargHouseOccup        1994 non-null float64\n",
      "PersPerOccupHous         1994 non-null float64\n",
      "PersPerOwnOccHous        1994 non-null float64\n",
      "PersPerRentOccHous       1994 non-null float64\n",
      "PctPersOwnOccup          1994 non-null float64\n",
      "PctPersDenseHous         1994 non-null float64\n",
      "PctHousLess3BR           1994 non-null float64\n",
      "MedNumBR                 1994 non-null float64\n",
      "HousVacant               1994 non-null float64\n",
      "PctHousOccup             1994 non-null float64\n",
      "PctHousOwnOcc            1994 non-null float64\n",
      "PctVacantBoarded         1994 non-null float64\n",
      "PctVacMore6Mos           1994 non-null float64\n",
      "MedYrHousBuilt           1994 non-null float64\n",
      "PctHousNoPhone           1994 non-null float64\n",
      "PctWOFullPlumb           1994 non-null float64\n",
      "OwnOccLowQuart           1994 non-null float64\n",
      "OwnOccMedVal             1994 non-null float64\n",
      "OwnOccHiQuart            1994 non-null float64\n",
      "RentLowQ                 1994 non-null float64\n",
      "RentMedian               1994 non-null float64\n",
      "RentHighQ                1994 non-null float64\n",
      "MedRent                  1994 non-null float64\n",
      "MedRentPctHousInc        1994 non-null float64\n",
      "MedOwnCostPctInc         1994 non-null float64\n",
      "MedOwnCostPctIncNoMtg    1994 non-null float64\n",
      "NumInShelters            1994 non-null float64\n",
      "NumStreet                1994 non-null float64\n",
      "PctForeignBorn           1994 non-null float64\n",
      "PctBornSameState         1994 non-null float64\n",
      "PctSameHouse85           1994 non-null float64\n",
      "PctSameCity85            1994 non-null float64\n",
      "PctSameState85           1994 non-null float64\n",
      "LandArea                 1994 non-null float64\n",
      "PopDens                  1994 non-null float64\n",
      "PctUsePubTrans           1994 non-null float64\n",
      "ViolentCrimesPerPop      1994 non-null float64\n",
      "dtypes: float64(98), int64(1), object(1)\n",
      "memory usage: 1.5+ MB\n"
     ]
    }
   ],
   "source": [
    "community_data.info()"
   ]
  },
  {
   "cell_type": "code",
   "execution_count": 10,
   "metadata": {},
   "outputs": [
    {
     "data": {
      "text/html": [
       "<div>\n",
       "<style scoped>\n",
       "    .dataframe tbody tr th:only-of-type {\n",
       "        vertical-align: middle;\n",
       "    }\n",
       "\n",
       "    .dataframe tbody tr th {\n",
       "        vertical-align: top;\n",
       "    }\n",
       "\n",
       "    .dataframe thead th {\n",
       "        text-align: right;\n",
       "    }\n",
       "</style>\n",
       "<table border=\"1\" class=\"dataframe\">\n",
       "  <thead>\n",
       "    <tr style=\"text-align: right;\">\n",
       "      <th></th>\n",
       "      <th>state</th>\n",
       "      <th>population</th>\n",
       "      <th>householdsize</th>\n",
       "      <th>racepctblack</th>\n",
       "      <th>racePctWhite</th>\n",
       "      <th>racePctAsian</th>\n",
       "      <th>racePctHisp</th>\n",
       "      <th>agePct12t21</th>\n",
       "      <th>agePct12t29</th>\n",
       "      <th>agePct16t24</th>\n",
       "      <th>...</th>\n",
       "      <th>NumStreet</th>\n",
       "      <th>PctForeignBorn</th>\n",
       "      <th>PctBornSameState</th>\n",
       "      <th>PctSameHouse85</th>\n",
       "      <th>PctSameCity85</th>\n",
       "      <th>PctSameState85</th>\n",
       "      <th>LandArea</th>\n",
       "      <th>PopDens</th>\n",
       "      <th>PctUsePubTrans</th>\n",
       "      <th>ViolentCrimesPerPop</th>\n",
       "    </tr>\n",
       "  </thead>\n",
       "  <tbody>\n",
       "    <tr>\n",
       "      <th>count</th>\n",
       "      <td>1994.000000</td>\n",
       "      <td>1994.000000</td>\n",
       "      <td>1994.000000</td>\n",
       "      <td>1994.000000</td>\n",
       "      <td>1994.000000</td>\n",
       "      <td>1994.000000</td>\n",
       "      <td>1994.000000</td>\n",
       "      <td>1994.000000</td>\n",
       "      <td>1994.000000</td>\n",
       "      <td>1994.000000</td>\n",
       "      <td>...</td>\n",
       "      <td>1994.000000</td>\n",
       "      <td>1994.000000</td>\n",
       "      <td>1994.000000</td>\n",
       "      <td>1994.000000</td>\n",
       "      <td>1994.000000</td>\n",
       "      <td>1994.000000</td>\n",
       "      <td>1994.000000</td>\n",
       "      <td>1994.000000</td>\n",
       "      <td>1994.000000</td>\n",
       "      <td>1994.000000</td>\n",
       "    </tr>\n",
       "    <tr>\n",
       "      <th>mean</th>\n",
       "      <td>28.683551</td>\n",
       "      <td>0.057593</td>\n",
       "      <td>0.463395</td>\n",
       "      <td>0.179629</td>\n",
       "      <td>0.753716</td>\n",
       "      <td>0.153681</td>\n",
       "      <td>0.144022</td>\n",
       "      <td>0.424218</td>\n",
       "      <td>0.493867</td>\n",
       "      <td>0.336264</td>\n",
       "      <td>...</td>\n",
       "      <td>0.022778</td>\n",
       "      <td>0.215552</td>\n",
       "      <td>0.608892</td>\n",
       "      <td>0.535050</td>\n",
       "      <td>0.626424</td>\n",
       "      <td>0.651530</td>\n",
       "      <td>0.065231</td>\n",
       "      <td>0.232854</td>\n",
       "      <td>0.161685</td>\n",
       "      <td>0.237979</td>\n",
       "    </tr>\n",
       "    <tr>\n",
       "      <th>std</th>\n",
       "      <td>16.397553</td>\n",
       "      <td>0.126906</td>\n",
       "      <td>0.163717</td>\n",
       "      <td>0.253442</td>\n",
       "      <td>0.244039</td>\n",
       "      <td>0.208877</td>\n",
       "      <td>0.232492</td>\n",
       "      <td>0.155196</td>\n",
       "      <td>0.143564</td>\n",
       "      <td>0.166505</td>\n",
       "      <td>...</td>\n",
       "      <td>0.100400</td>\n",
       "      <td>0.231134</td>\n",
       "      <td>0.204329</td>\n",
       "      <td>0.181352</td>\n",
       "      <td>0.200521</td>\n",
       "      <td>0.198221</td>\n",
       "      <td>0.109459</td>\n",
       "      <td>0.203092</td>\n",
       "      <td>0.229055</td>\n",
       "      <td>0.232985</td>\n",
       "    </tr>\n",
       "    <tr>\n",
       "      <th>min</th>\n",
       "      <td>1.000000</td>\n",
       "      <td>0.000000</td>\n",
       "      <td>0.000000</td>\n",
       "      <td>0.000000</td>\n",
       "      <td>0.000000</td>\n",
       "      <td>0.000000</td>\n",
       "      <td>0.000000</td>\n",
       "      <td>0.000000</td>\n",
       "      <td>0.000000</td>\n",
       "      <td>0.000000</td>\n",
       "      <td>...</td>\n",
       "      <td>0.000000</td>\n",
       "      <td>0.000000</td>\n",
       "      <td>0.000000</td>\n",
       "      <td>0.000000</td>\n",
       "      <td>0.000000</td>\n",
       "      <td>0.000000</td>\n",
       "      <td>0.000000</td>\n",
       "      <td>0.000000</td>\n",
       "      <td>0.000000</td>\n",
       "      <td>0.000000</td>\n",
       "    </tr>\n",
       "    <tr>\n",
       "      <th>25%</th>\n",
       "      <td>12.000000</td>\n",
       "      <td>0.010000</td>\n",
       "      <td>0.350000</td>\n",
       "      <td>0.020000</td>\n",
       "      <td>0.630000</td>\n",
       "      <td>0.040000</td>\n",
       "      <td>0.010000</td>\n",
       "      <td>0.340000</td>\n",
       "      <td>0.410000</td>\n",
       "      <td>0.250000</td>\n",
       "      <td>...</td>\n",
       "      <td>0.000000</td>\n",
       "      <td>0.060000</td>\n",
       "      <td>0.470000</td>\n",
       "      <td>0.420000</td>\n",
       "      <td>0.520000</td>\n",
       "      <td>0.560000</td>\n",
       "      <td>0.020000</td>\n",
       "      <td>0.100000</td>\n",
       "      <td>0.020000</td>\n",
       "      <td>0.070000</td>\n",
       "    </tr>\n",
       "    <tr>\n",
       "      <th>50%</th>\n",
       "      <td>34.000000</td>\n",
       "      <td>0.020000</td>\n",
       "      <td>0.440000</td>\n",
       "      <td>0.060000</td>\n",
       "      <td>0.850000</td>\n",
       "      <td>0.070000</td>\n",
       "      <td>0.040000</td>\n",
       "      <td>0.400000</td>\n",
       "      <td>0.480000</td>\n",
       "      <td>0.290000</td>\n",
       "      <td>...</td>\n",
       "      <td>0.000000</td>\n",
       "      <td>0.130000</td>\n",
       "      <td>0.630000</td>\n",
       "      <td>0.540000</td>\n",
       "      <td>0.670000</td>\n",
       "      <td>0.700000</td>\n",
       "      <td>0.040000</td>\n",
       "      <td>0.170000</td>\n",
       "      <td>0.070000</td>\n",
       "      <td>0.150000</td>\n",
       "    </tr>\n",
       "    <tr>\n",
       "      <th>75%</th>\n",
       "      <td>42.000000</td>\n",
       "      <td>0.050000</td>\n",
       "      <td>0.540000</td>\n",
       "      <td>0.230000</td>\n",
       "      <td>0.940000</td>\n",
       "      <td>0.170000</td>\n",
       "      <td>0.160000</td>\n",
       "      <td>0.470000</td>\n",
       "      <td>0.540000</td>\n",
       "      <td>0.360000</td>\n",
       "      <td>...</td>\n",
       "      <td>0.000000</td>\n",
       "      <td>0.280000</td>\n",
       "      <td>0.777500</td>\n",
       "      <td>0.660000</td>\n",
       "      <td>0.770000</td>\n",
       "      <td>0.790000</td>\n",
       "      <td>0.070000</td>\n",
       "      <td>0.280000</td>\n",
       "      <td>0.190000</td>\n",
       "      <td>0.330000</td>\n",
       "    </tr>\n",
       "    <tr>\n",
       "      <th>max</th>\n",
       "      <td>56.000000</td>\n",
       "      <td>1.000000</td>\n",
       "      <td>1.000000</td>\n",
       "      <td>1.000000</td>\n",
       "      <td>1.000000</td>\n",
       "      <td>1.000000</td>\n",
       "      <td>1.000000</td>\n",
       "      <td>1.000000</td>\n",
       "      <td>1.000000</td>\n",
       "      <td>1.000000</td>\n",
       "      <td>...</td>\n",
       "      <td>1.000000</td>\n",
       "      <td>1.000000</td>\n",
       "      <td>1.000000</td>\n",
       "      <td>1.000000</td>\n",
       "      <td>1.000000</td>\n",
       "      <td>1.000000</td>\n",
       "      <td>1.000000</td>\n",
       "      <td>1.000000</td>\n",
       "      <td>1.000000</td>\n",
       "      <td>1.000000</td>\n",
       "    </tr>\n",
       "  </tbody>\n",
       "</table>\n",
       "<p>8 rows × 99 columns</p>\n",
       "</div>"
      ],
      "text/plain": [
       "             state   population  householdsize  racepctblack  racePctWhite  \\\n",
       "count  1994.000000  1994.000000    1994.000000   1994.000000   1994.000000   \n",
       "mean     28.683551     0.057593       0.463395      0.179629      0.753716   \n",
       "std      16.397553     0.126906       0.163717      0.253442      0.244039   \n",
       "min       1.000000     0.000000       0.000000      0.000000      0.000000   \n",
       "25%      12.000000     0.010000       0.350000      0.020000      0.630000   \n",
       "50%      34.000000     0.020000       0.440000      0.060000      0.850000   \n",
       "75%      42.000000     0.050000       0.540000      0.230000      0.940000   \n",
       "max      56.000000     1.000000       1.000000      1.000000      1.000000   \n",
       "\n",
       "       racePctAsian  racePctHisp  agePct12t21  agePct12t29  agePct16t24  ...  \\\n",
       "count   1994.000000  1994.000000  1994.000000  1994.000000  1994.000000  ...   \n",
       "mean       0.153681     0.144022     0.424218     0.493867     0.336264  ...   \n",
       "std        0.208877     0.232492     0.155196     0.143564     0.166505  ...   \n",
       "min        0.000000     0.000000     0.000000     0.000000     0.000000  ...   \n",
       "25%        0.040000     0.010000     0.340000     0.410000     0.250000  ...   \n",
       "50%        0.070000     0.040000     0.400000     0.480000     0.290000  ...   \n",
       "75%        0.170000     0.160000     0.470000     0.540000     0.360000  ...   \n",
       "max        1.000000     1.000000     1.000000     1.000000     1.000000  ...   \n",
       "\n",
       "         NumStreet  PctForeignBorn  PctBornSameState  PctSameHouse85  \\\n",
       "count  1994.000000     1994.000000       1994.000000     1994.000000   \n",
       "mean      0.022778        0.215552          0.608892        0.535050   \n",
       "std       0.100400        0.231134          0.204329        0.181352   \n",
       "min       0.000000        0.000000          0.000000        0.000000   \n",
       "25%       0.000000        0.060000          0.470000        0.420000   \n",
       "50%       0.000000        0.130000          0.630000        0.540000   \n",
       "75%       0.000000        0.280000          0.777500        0.660000   \n",
       "max       1.000000        1.000000          1.000000        1.000000   \n",
       "\n",
       "       PctSameCity85  PctSameState85     LandArea      PopDens  \\\n",
       "count    1994.000000     1994.000000  1994.000000  1994.000000   \n",
       "mean        0.626424        0.651530     0.065231     0.232854   \n",
       "std         0.200521        0.198221     0.109459     0.203092   \n",
       "min         0.000000        0.000000     0.000000     0.000000   \n",
       "25%         0.520000        0.560000     0.020000     0.100000   \n",
       "50%         0.670000        0.700000     0.040000     0.170000   \n",
       "75%         0.770000        0.790000     0.070000     0.280000   \n",
       "max         1.000000        1.000000     1.000000     1.000000   \n",
       "\n",
       "       PctUsePubTrans  ViolentCrimesPerPop  \n",
       "count     1994.000000          1994.000000  \n",
       "mean         0.161685             0.237979  \n",
       "std          0.229055             0.232985  \n",
       "min          0.000000             0.000000  \n",
       "25%          0.020000             0.070000  \n",
       "50%          0.070000             0.150000  \n",
       "75%          0.190000             0.330000  \n",
       "max          1.000000             1.000000  \n",
       "\n",
       "[8 rows x 99 columns]"
      ]
     },
     "execution_count": 10,
     "metadata": {},
     "output_type": "execute_result"
    }
   ],
   "source": [
    "community_data.describe()"
   ]
  },
  {
   "cell_type": "code",
   "execution_count": 20,
   "metadata": {},
   "outputs": [
    {
     "data": {
      "text/html": [
       "<div>\n",
       "<style scoped>\n",
       "    .dataframe tbody tr th:only-of-type {\n",
       "        vertical-align: middle;\n",
       "    }\n",
       "\n",
       "    .dataframe tbody tr th {\n",
       "        vertical-align: top;\n",
       "    }\n",
       "\n",
       "    .dataframe thead th {\n",
       "        text-align: right;\n",
       "    }\n",
       "</style>\n",
       "<table border=\"1\" class=\"dataframe\">\n",
       "  <thead>\n",
       "    <tr style=\"text-align: right;\">\n",
       "      <th></th>\n",
       "      <th>population</th>\n",
       "      <th>householdsize</th>\n",
       "      <th>racepctblack</th>\n",
       "      <th>racePctWhite</th>\n",
       "      <th>racePctAsian</th>\n",
       "      <th>racePctHisp</th>\n",
       "      <th>agePct12t21</th>\n",
       "      <th>agePct12t29</th>\n",
       "      <th>agePct16t24</th>\n",
       "      <th>agePct65up</th>\n",
       "      <th>...</th>\n",
       "      <th>NumStreet</th>\n",
       "      <th>PctForeignBorn</th>\n",
       "      <th>PctBornSameState</th>\n",
       "      <th>PctSameHouse85</th>\n",
       "      <th>PctSameCity85</th>\n",
       "      <th>PctSameState85</th>\n",
       "      <th>LandArea</th>\n",
       "      <th>PopDens</th>\n",
       "      <th>PctUsePubTrans</th>\n",
       "      <th>ViolentCrimesPerPop</th>\n",
       "    </tr>\n",
       "  </thead>\n",
       "  <tbody>\n",
       "    <tr>\n",
       "      <th>0</th>\n",
       "      <td>0.19</td>\n",
       "      <td>0.33</td>\n",
       "      <td>0.02</td>\n",
       "      <td>0.90</td>\n",
       "      <td>0.12</td>\n",
       "      <td>0.17</td>\n",
       "      <td>0.34</td>\n",
       "      <td>0.47</td>\n",
       "      <td>0.29</td>\n",
       "      <td>0.32</td>\n",
       "      <td>...</td>\n",
       "      <td>0.0</td>\n",
       "      <td>0.12</td>\n",
       "      <td>0.42</td>\n",
       "      <td>0.50</td>\n",
       "      <td>0.51</td>\n",
       "      <td>0.64</td>\n",
       "      <td>0.12</td>\n",
       "      <td>0.26</td>\n",
       "      <td>0.20</td>\n",
       "      <td>0.20</td>\n",
       "    </tr>\n",
       "    <tr>\n",
       "      <th>1</th>\n",
       "      <td>0.00</td>\n",
       "      <td>0.16</td>\n",
       "      <td>0.12</td>\n",
       "      <td>0.74</td>\n",
       "      <td>0.45</td>\n",
       "      <td>0.07</td>\n",
       "      <td>0.26</td>\n",
       "      <td>0.59</td>\n",
       "      <td>0.35</td>\n",
       "      <td>0.27</td>\n",
       "      <td>...</td>\n",
       "      <td>0.0</td>\n",
       "      <td>0.21</td>\n",
       "      <td>0.50</td>\n",
       "      <td>0.34</td>\n",
       "      <td>0.60</td>\n",
       "      <td>0.52</td>\n",
       "      <td>0.02</td>\n",
       "      <td>0.12</td>\n",
       "      <td>0.45</td>\n",
       "      <td>0.67</td>\n",
       "    </tr>\n",
       "    <tr>\n",
       "      <th>2</th>\n",
       "      <td>0.00</td>\n",
       "      <td>0.42</td>\n",
       "      <td>0.49</td>\n",
       "      <td>0.56</td>\n",
       "      <td>0.17</td>\n",
       "      <td>0.04</td>\n",
       "      <td>0.39</td>\n",
       "      <td>0.47</td>\n",
       "      <td>0.28</td>\n",
       "      <td>0.32</td>\n",
       "      <td>...</td>\n",
       "      <td>0.0</td>\n",
       "      <td>0.14</td>\n",
       "      <td>0.49</td>\n",
       "      <td>0.54</td>\n",
       "      <td>0.67</td>\n",
       "      <td>0.56</td>\n",
       "      <td>0.01</td>\n",
       "      <td>0.21</td>\n",
       "      <td>0.02</td>\n",
       "      <td>0.43</td>\n",
       "    </tr>\n",
       "    <tr>\n",
       "      <th>3</th>\n",
       "      <td>0.04</td>\n",
       "      <td>0.77</td>\n",
       "      <td>1.00</td>\n",
       "      <td>0.08</td>\n",
       "      <td>0.12</td>\n",
       "      <td>0.10</td>\n",
       "      <td>0.51</td>\n",
       "      <td>0.50</td>\n",
       "      <td>0.34</td>\n",
       "      <td>0.21</td>\n",
       "      <td>...</td>\n",
       "      <td>0.0</td>\n",
       "      <td>0.19</td>\n",
       "      <td>0.30</td>\n",
       "      <td>0.73</td>\n",
       "      <td>0.64</td>\n",
       "      <td>0.65</td>\n",
       "      <td>0.02</td>\n",
       "      <td>0.39</td>\n",
       "      <td>0.28</td>\n",
       "      <td>0.12</td>\n",
       "    </tr>\n",
       "    <tr>\n",
       "      <th>4</th>\n",
       "      <td>0.01</td>\n",
       "      <td>0.55</td>\n",
       "      <td>0.02</td>\n",
       "      <td>0.95</td>\n",
       "      <td>0.09</td>\n",
       "      <td>0.05</td>\n",
       "      <td>0.38</td>\n",
       "      <td>0.38</td>\n",
       "      <td>0.23</td>\n",
       "      <td>0.36</td>\n",
       "      <td>...</td>\n",
       "      <td>0.0</td>\n",
       "      <td>0.11</td>\n",
       "      <td>0.72</td>\n",
       "      <td>0.64</td>\n",
       "      <td>0.61</td>\n",
       "      <td>0.53</td>\n",
       "      <td>0.04</td>\n",
       "      <td>0.09</td>\n",
       "      <td>0.02</td>\n",
       "      <td>0.03</td>\n",
       "    </tr>\n",
       "  </tbody>\n",
       "</table>\n",
       "<p>5 rows × 98 columns</p>\n",
       "</div>"
      ],
      "text/plain": [
       "   population  householdsize  racepctblack  racePctWhite  racePctAsian  \\\n",
       "0        0.19           0.33          0.02          0.90          0.12   \n",
       "1        0.00           0.16          0.12          0.74          0.45   \n",
       "2        0.00           0.42          0.49          0.56          0.17   \n",
       "3        0.04           0.77          1.00          0.08          0.12   \n",
       "4        0.01           0.55          0.02          0.95          0.09   \n",
       "\n",
       "   racePctHisp  agePct12t21  agePct12t29  agePct16t24  agePct65up  ...  \\\n",
       "0         0.17         0.34         0.47         0.29        0.32  ...   \n",
       "1         0.07         0.26         0.59         0.35        0.27  ...   \n",
       "2         0.04         0.39         0.47         0.28        0.32  ...   \n",
       "3         0.10         0.51         0.50         0.34        0.21  ...   \n",
       "4         0.05         0.38         0.38         0.23        0.36  ...   \n",
       "\n",
       "   NumStreet  PctForeignBorn  PctBornSameState  PctSameHouse85  PctSameCity85  \\\n",
       "0        0.0            0.12              0.42            0.50           0.51   \n",
       "1        0.0            0.21              0.50            0.34           0.60   \n",
       "2        0.0            0.14              0.49            0.54           0.67   \n",
       "3        0.0            0.19              0.30            0.73           0.64   \n",
       "4        0.0            0.11              0.72            0.64           0.61   \n",
       "\n",
       "   PctSameState85  LandArea  PopDens  PctUsePubTrans  ViolentCrimesPerPop  \n",
       "0            0.64      0.12     0.26            0.20                 0.20  \n",
       "1            0.52      0.02     0.12            0.45                 0.67  \n",
       "2            0.56      0.01     0.21            0.02                 0.43  \n",
       "3            0.65      0.02     0.39            0.28                 0.12  \n",
       "4            0.53      0.04     0.09            0.02                 0.03  \n",
       "\n",
       "[5 rows x 98 columns]"
      ]
     },
     "execution_count": 20,
     "metadata": {},
     "output_type": "execute_result"
    }
   ],
   "source": [
    "#Removing the State and CommunityName as they do not represent much information \n",
    "New_Comm = community_data.iloc[:, 2:]\n",
    "New_Comm.head()"
   ]
  },
  {
   "cell_type": "code",
   "execution_count": 21,
   "metadata": {},
   "outputs": [],
   "source": [
    "#Seperate the target varible and store the rest data in train\n",
    "target = New_Comm.ViolentCrimesPerPop\n",
    "train = New_Comm.iloc[:,:-1]"
   ]
  },
  {
   "cell_type": "code",
   "execution_count": 22,
   "metadata": {},
   "outputs": [],
   "source": [
    "from sklearn.model_selection import KFold, train_test_split, cross_val_score, cross_validate"
   ]
  },
  {
   "cell_type": "code",
   "execution_count": 23,
   "metadata": {},
   "outputs": [],
   "source": [
    "#Splitting the training and testing data.\n",
    "X_train, X_test, Y_train, Y_test = train_test_split(train, target, test_size =0.2, random_state =33)"
   ]
  },
  {
   "cell_type": "code",
   "execution_count": 24,
   "metadata": {},
   "outputs": [
    {
     "name": "stdout",
     "output_type": "stream",
     "text": [
      "(1595, 97)\n",
      "(399, 97)\n",
      "(1595,)\n",
      "(399,)\n"
     ]
    }
   ],
   "source": [
    "print(X_train.shape)\n",
    "print(X_test.shape)\n",
    "print(Y_train.shape)\n",
    "print(Y_test.shape)"
   ]
  },
  {
   "cell_type": "markdown",
   "metadata": {},
   "source": [
    "B.\n",
    "\n",
    "[10 pts] Perform standard multiple linear regression on data using the scikit-learn Linear Regression module. Compute the RMSE values on the full training data (the 80% partition). Also, plot the correlation between the predicted and actual values of the target attribute. Display the obtained regression coefficients (weights) and plot them using matplotlib. Finally, perform 10-fold cross-validation on the training partition and compare the cross-validation RMSE to the training RMSE (for cross validation, you should use the KFold module from sklearn.model_selection)"
   ]
  },
  {
   "cell_type": "code",
   "execution_count": 25,
   "metadata": {},
   "outputs": [],
   "source": [
    "from sklearn.linear_model import LinearRegression"
   ]
  },
  {
   "cell_type": "code",
   "execution_count": 26,
   "metadata": {},
   "outputs": [
    {
     "data": {
      "text/plain": [
       "LinearRegression(copy_X=True, fit_intercept=True, n_jobs=None, normalize=False)"
      ]
     },
     "execution_count": 26,
     "metadata": {},
     "output_type": "execute_result"
    }
   ],
   "source": [
    "linreg = LinearRegression()\n",
    "linreg.fit(X_train, Y_train)"
   ]
  },
  {
   "cell_type": "code",
   "execution_count": 28,
   "metadata": {},
   "outputs": [],
   "source": [
    "#finidng prediction for training data\n",
    "p_train = linreg.predict(X_train)"
   ]
  },
  {
   "cell_type": "code",
   "execution_count": 29,
   "metadata": {},
   "outputs": [
    {
     "name": "stdout",
     "output_type": "stream",
     "text": [
      "RMSE on train Data:  0.1261959313342669\n"
     ]
    }
   ],
   "source": [
    "from sklearn.metrics import mean_squared_error, mean_absolute_error\n",
    "\n",
    "#Computing RMSE for train data\n",
    "rmse_train = np.sqrt(mean_squared_error(p_train, Y_train))\n",
    "print(\"RMSE on train Data: \", rmse_train)"
   ]
  },
  {
   "cell_type": "code",
   "execution_count": 30,
   "metadata": {},
   "outputs": [
    {
     "data": {
      "image/png": "[encoded data removed]",
      "text/plain": [
       "<Figure size 432x288 with 1 Axes>"
      ]
     },
     "metadata": {
      "needs_background": "light"
     },
     "output_type": "display_data"
    }
   ],
   "source": [
    "#Plotting correlation between predicted and actual training target variable\n",
    "%matplotlib inline\n",
    "pl.plot(p_train, Y_train,'bo', markersize=4)\n",
    "pl.plot([0,1],[0,1], 'g-')\n",
    "pl.xlabel('Predicted')\n",
    "pl.ylabel('Actual')\n",
    "pl.show()"
   ]
  },
  {
   "cell_type": "code",
   "execution_count": 31,
   "metadata": {},
   "outputs": [],
   "source": [
    "#Plotting the regression wieghts\n",
    "%matplotlib inline\n",
    "def plot_coefficients(model, n_features, feature_names):\n",
    "    pl.barh(range(n_features), model.coef_, align='center')\n",
    "    pl.yticks(np.arange(n_features), feature_names)\n",
    "    pl.xlabel(\"Coefficient Value\")\n",
    "    pl.ylabel(\"Feature\")\n",
    "    pl.ylim(-1, n_features)"
   ]
  },
  {
   "cell_type": "code",
   "execution_count": 32,
   "metadata": {},
   "outputs": [
    {
     "data": {
      "image/png": "[encoded data removed]",
      "text/plain": [
       "<Figure size 1080x1440 with 1 Axes>"
      ]
     },
     "metadata": {
      "needs_background": "light"
     },
     "output_type": "display_data"
    }
   ],
   "source": [
    "#Plotting the coefficients\n",
    "plt.figure(figsize=(15,20))\n",
    "\n",
    "plot_coefficients(linreg, len(train.columns), train.columns)"
   ]
  },
  {
   "cell_type": "code",
   "execution_count": 33,
   "metadata": {},
   "outputs": [],
   "source": [
    "# Performing the 10 fold cross-validation \n",
    "from sklearn.model_selection import cross_val_score"
   ]
  },
  {
   "cell_type": "code",
   "execution_count": 34,
   "metadata": {},
   "outputs": [
    {
     "name": "stdout",
     "output_type": "stream",
     "text": [
      "[0.14373935 0.13848502 0.13298995 0.1360245  0.1351074  0.13231055\n",
      " 0.11917148 0.12158482 0.13669634 0.14684537]\n"
     ]
    }
   ],
   "source": [
    "cv_scores = cross_val_score(linreg, X_train, Y_train, scoring =\"neg_mean_squared_error\", cv=10)\n",
    "print(np.sqrt(abs(cv_scores)))\n",
    "cv_rmse = np.mean(np.sqrt(abs(cv_scores)))"
   ]
  },
  {
   "cell_type": "code",
   "execution_count": 36,
   "metadata": {},
   "outputs": [
    {
     "name": "stdout",
     "output_type": "stream",
     "text": [
      "Method: Simple Linear Regression\n",
      "RMSE on training data: 0.1262\n",
      "RMSE on 10-fold CV: 0.1343\n"
     ]
    }
   ],
   "source": [
    "method_name = 'Simple Linear Regression'\n",
    "print('Method: %s' %method_name)\n",
    "print('RMSE on training data: %.4f' %rmse_train)\n",
    "print('RMSE on 10-fold CV: %.4f' %cv_rmse)"
   ]
  },
  {
   "cell_type": "markdown",
   "metadata": {},
   "source": [
    "RMSE OF 10 FOLD IS GREATER WHCIH INDICATES THAT IT DOES NOT PERFORM WELL THAN THE OTHER"
   ]
  },
  {
   "cell_type": "markdown",
   "metadata": {},
   "source": [
    "C.\n",
    "\n",
    "[15 pts] Feature Selection:  use the scikit-learn to select the best subset of features to perform linear regression. For feature selection, write a script or function that takes as input the training data; target variable; the regression model; and any other parameters you find necessary. The function should return the optimal percentage of the most informative features to use. Your approach should use k-fold cross-validation on the training data (use k=5 for consistency) and use feature_selection.SelectPercentile to find the most informative variables for a range of percentile values [Note: since this is regression not classification, in the SelectPercentile function you should use feature_selection.f_regression as scoring function rather than chi2). You should also plot the model's error values on cross-validation using only the selected features across the range of percentile values. For variety, in this part we will use Mean Absolute Error (MAE) as the error metric instead of RMSE. For cross-validation, use scikit's cross_val_score function. In order to use cross_val_score with regression you'll need to pass to it a specific error function. In this case, you will use scoring='neg_mean_absolute_error' as a parameter. You should use aboslute values to convert these negated MAE values to positive MAE values. Your plot should look similar (but won't be exactly the same as this example). Once you have identified the best percentile based on cross-validation, use it to identify and display the corresponding best features. As a final step, train your model on the full 80% training data with the optimal subset of features and then compute it's peformance (again using MAE) on the set-aside 20% test partition"
   ]
  },
  {
   "cell_type": "code",
   "execution_count": 37,
   "metadata": {},
   "outputs": [],
   "source": [
    "#Univariate linear regression tests returning F-statistic and p-value\n",
    "from sklearn import feature_selection"
   ]
  },
  {
   "cell_type": "code",
   "execution_count": 38,
   "metadata": {},
   "outputs": [],
   "source": [
    "from sklearn.feature_selection import f_regression, SelectPercentile\n",
    "import math"
   ]
  },
  {
   "cell_type": "code",
   "execution_count": 39,
   "metadata": {},
   "outputs": [
    {
     "name": "stdout",
     "output_type": "stream",
     "text": [
      "[[0.02 0.91 0.83 ... 0.83 0.   0.01]\n",
      " [0.59 0.44 0.44 ... 0.31 0.86 0.33]\n",
      " [0.02 0.95 0.75 ... 0.86 0.04 0.02]\n",
      " ...\n",
      " [0.23 0.76 0.77 ... 0.78 0.   0.03]\n",
      " [0.09 0.77 0.42 ... 0.24 0.04 0.06]\n",
      " [1.   0.   0.37 ... 0.23 1.   0.25]]\n"
     ]
    }
   ],
   "source": [
    "f_select = feature_selection.SelectPercentile(feature_selection.f_regression, percentile = 20)\n",
    "X_train_fs = f_select.fit_transform(X_train, Y_train)\n",
    "print(X_train_fs)"
   ]
  },
  {
   "cell_type": "code",
   "execution_count": 41,
   "metadata": {},
   "outputs": [
    {
     "name": "stdout",
     "output_type": "stream",
     "text": [
      "1 0.11287401163402824\n",
      "6 0.09943268475677308\n",
      "11 0.09900510519125441\n",
      "16 0.0990905907952681\n",
      "21 0.0975068622131086\n",
      "26 0.09608904536542377\n",
      "31 0.09478480270197638\n",
      "36 0.09474955355002232\n",
      "41 0.094353704288577\n",
      "46 0.09466441760571029\n",
      "51 0.09498773346781052\n",
      "56 0.09532085164805934\n",
      "61 0.09574966889254499\n",
      "66 0.09572089544915723\n",
      "71 0.09583132229767208\n",
      "76 0.09519157369784723\n",
      "81 0.0954256882753639\n",
      "86 0.09513624310358185\n",
      "91 0.09525366581598069\n",
      "96 0.09527627852883913\n",
      "Optimal percentile of features:41\n",
      "\n",
      "optimal_percent :  [8]  Optimal number of features:39 \n",
      "\n"
     ]
    },
    {
     "data": {
      "text/plain": [
       "[<matplotlib.lines.Line2D at 0x1680c1521d0>]"
      ]
     },
     "execution_count": 41,
     "metadata": {},
     "output_type": "execute_result"
    },
    {
     "data": {
      "image/png": "[encoded data removed]",
      "text/plain": [
       "<Figure size 432x288 with 1 Axes>"
      ]
     },
     "metadata": {
      "needs_background": "light"
     },
     "output_type": "display_data"
    }
   ],
   "source": [
    "import warnings\n",
    "warnings.filterwarnings(\"ignore\", category=RuntimeWarning) \n",
    "\n",
    "\n",
    "linreg = LinearRegression()\n",
    "percentiles = range(1, 100, 5)\n",
    "scorer ='neg_mean_absolute_error'\n",
    "N =5\n",
    "\n",
    "def optimal_num_features(model, X_train, Y_train, N, percentile, scorer):\n",
    "    results = []\n",
    "\n",
    "    for i in percentiles:\n",
    "        fs = SelectPercentile(f_regression, percentile=i)\n",
    "        X_train_fs = fs.fit_transform(X_train, Y_train)\n",
    "        scores = abs(cross_val_score(model, X_train_fs, Y_train, cv=N, scoring = scorer))\n",
    "        print (i, scores.mean())\n",
    "        results = np.append(results, scores.mean())\n",
    "\n",
    "    optimal_percentile = np.where(results == results.min())[0]\n",
    "    print (\"Optimal percentile of features:{0}\".format(percentiles[int(optimal_percentile)]))\n",
    "    return optimal_percentile, results\n",
    "\n",
    "optimal_percent, results = optimal_num_features(linreg,X_train,Y_train,N,percentiles,scorer)\n",
    "\n",
    "optimal_num_features = int(math.floor(percentiles[int(optimal_percent)]*X_train.shape[1])/100)\n",
    "print (\"\\noptimal_percent : \",optimal_percent,\" Optimal number of features:{0}\".format(optimal_num_features), \"\\n\")\n",
    "\n",
    "# Plot percentile of features VS. cross-validation scores\n",
    "import pylab as pl\n",
    "pl.figure()\n",
    "pl.title(\" Percentage of Features VS cross-validation score\")\n",
    "pl.xlabel(\"Percentage of features selected\")\n",
    "pl.ylabel(\"Cross validation accuracy\")\n",
    "pl.plot(percentiles,results)\n"
   ]
  },
  {
   "cell_type": "code",
   "execution_count": 44,
   "metadata": {},
   "outputs": [
    {
     "name": "stdout",
     "output_type": "stream",
     "text": [
      "optimal_percent  41\n",
      "\n",
      "population \t 256.0323547372104\n",
      "racepctblack \t 1074.8895092675332\n",
      "racePctWhite \t 1412.507812392418\n",
      "numbUrban \t 247.77613854814712\n",
      "medIncome \t 341.6325375231915\n",
      "pctWWage \t 161.57075094157048\n",
      "pctWInvInc \t 756.0149723312642\n",
      "pctWPubAsst \t 784.5706408092445\n",
      "medFamInc \t 366.9004218440599\n",
      "perCapInc \t 214.9931579906875\n",
      "NumUnderPov \t 400.30785689079215\n",
      "PctPopUnderPov \t 578.8173652137692\n",
      "PctLess9thGrade \t 319.21810810192335\n",
      "PctNotHSGrad \t 472.1962078690574\n",
      "PctBSorMore \t 173.3668431842841\n",
      "PctUnemployed \t 533.9131521991873\n",
      "PctEmploy \t 190.46526246383505\n",
      "MalePctDivorce \t 602.7748935816096\n",
      "FemalePctDiv \t 704.7727390048349\n",
      "TotalPctDiv \t 693.1378303822019\n",
      "PctFam2Par \t 1657.8650169981222\n",
      "PctKids2Par \t 1972.8040638663977\n",
      "PctYoungKids2Par \t 1342.1736137875287\n",
      "PctTeen2Par \t 1299.5351058426954\n",
      "NumIlleg \t 431.63556026914017\n",
      "PctIlleg \t 1936.1208737826912\n",
      "PctLargHouseFam \t 241.2338163602986\n",
      "PctPersOwnOccup \t 630.760339373983\n",
      "PctPersDenseHous \t 375.64590187612174\n",
      "PctHousLess3BR \t 487.9616808423965\n",
      "MedNumBR \t 242.06642994789578\n",
      "HousVacant \t 339.968618162094\n",
      "PctHousOccup \t 173.73941701732582\n",
      "PctHousOwnOcc \t 478.53042971844854\n",
      "PctVacantBoarded \t 507.63640854199105\n",
      "PctHousNoPhone \t 505.86265274688\n",
      "PctWOFullPlumb \t 209.11490495589555\n",
      "MedRentPctHousInc \t 178.68419423618568\n",
      "NumInShelters \t 265.8459418752538\n",
      "NumStreet \t 169.53426122290423\n"
     ]
    }
   ],
   "source": [
    "print(\"optimal_percent \",percentiles[int(optimal_percent)])\n",
    "print()\n",
    "fs = SelectPercentile(f_regression,percentile=percentiles[int(optimal_percent)])\n",
    "X_train_fs = fs.fit_transform(X_train,Y_train)\n",
    "\n",
    "for i in range(len(X_train.columns.values)):\n",
    "    if fs.get_support()[i]:\n",
    "        print (X_train.columns.values[i], '\\t', fs.scores_[i])"
   ]
  },
  {
   "cell_type": "markdown",
   "metadata": {},
   "source": [
    "Optimal percentile of features:41\n",
    "\n",
    "optimal_percent :  [8]  Optimal number of features:39 "
   ]
  },
  {
   "cell_type": "code",
   "execution_count": 45,
   "metadata": {},
   "outputs": [
    {
     "name": "stdout",
     "output_type": "stream",
     "text": [
      "MAE score for test data on cv: 0.02407671773153772\n"
     ]
    }
   ],
   "source": [
    "#calculating the Mean Absolute Error(MAE)\n",
    "fs = SelectPercentile(f_regression, optimal_percent)\n",
    "X_train_fs = fs.fit_transform(X_train, Y_train)\n",
    "linreg = LinearRegression()\n",
    "linreg.fit(X_train_fs, Y_train)\n",
    "X_test_fs = fs.transform(X_test)\n",
    "\n",
    "predict = linreg.predict(X_test_fs)\n",
    "\n",
    "score = mean_squared_error(Y_test,predict )\n",
    "print(\"MAE score for test data on cv: {}\".format(abs(score).mean()))"
   ]
  },
  {
   "cell_type": "markdown",
   "metadata": {},
   "source": [
    "D.\n",
    "\n",
    "\n",
    "[10 pts] Next, using the original train and test data in part (a), perform Ridge Regression and Lasso Regression using the modules from sklearn.linear_model. In each case, perform systematic model selection to identify the optimal alpha hyperparameter (the regularization coefficient). You should create a function that takes as input the training data and target variable; the parameter to vary and a list of its values; the model to be trained; and any other relevant input needed to determine the optimal value for the specified parameter. The model selection process should perform k-fold cross validation (k should be a parameter, but you can select k=5 for this problem). For each model, you should also plot the error values (this time using RMSE as the error metric) on the training and cross-validation splits across the specified values of alpha. Finally, using the best alpha values for each regression model, train the model on the full training data and evaluate it on the set-aside test data. Discuss your observations and conclusions, especially about the impact of alpha on bias-variance trade-off. [Hint: for an example of a similar model optimization process please review the class example notebook.]"
   ]
  },
  {
   "cell_type": "code",
   "execution_count": 47,
   "metadata": {},
   "outputs": [],
   "source": [
    "from sklearn.linear_model import Lasso, Ridge, ElasticNet"
   ]
  },
  {
   "cell_type": "code",
   "execution_count": 48,
   "metadata": {},
   "outputs": [],
   "source": [
    "def calc_params(Data, y, model, param_values, param_name, K, verbose, model_name):\n",
    "    \n",
    "    # Convert input to Numpy arrays\n",
    "    Data = np.array(Data)\n",
    "    y = np.array(y)\n",
    "    \n",
    "    # initialize training and testing score arrays with zeros\n",
    "    train_scores = np.zeros(len(param_values))\n",
    "    test_scores = np.zeros(len(param_values))\n",
    "    \n",
    "    # iterate over the different parameter values\n",
    "    for i, param_value in enumerate(param_values):\n",
    "        \n",
    "        # set classifier parameters\n",
    "        model.set_params(**{param_name:param_value})\n",
    "        \n",
    "        # initialize the K scores obtained for each fold\n",
    "        k_train_scores = np.zeros(K)\n",
    "        k_test_scores = np.zeros(K)\n",
    "        \n",
    "        # create KFold cross validation\n",
    "        cv = KFold(n_splits=K, shuffle=True, random_state=0)\n",
    "        \n",
    "        # iterate over the K folds\n",
    "        for train, test in cv.split(Data):\n",
    "            # fit the classifier in the corresponding fold\n",
    "            # and obtain the corresponding accuracy scores on train and test sets\n",
    "            model.fit(Data[train], y[train])\n",
    "            \n",
    "            train_predict = model.predict(Data[train])\n",
    "            test_predict = model.predict(Data[test])\n",
    "            \n",
    "            k_train_scores = np.sqrt(mean_squared_error(y[train], train_predict))\n",
    "            k_test_scores = np.sqrt(mean_squared_error(y[test], test_predict))\n",
    "\n",
    "        \n",
    "        # store the mean of the K fold scores\n",
    "        train_scores[i] = np.mean(k_train_scores)\n",
    "        test_scores[i] = np.mean(k_test_scores)\n",
    "       \n",
    "    # plot the training and testing scores in a log scale\n",
    "    fig = plt.figure(figsize=(15,10))\n",
    "    \n",
    "    plt.plot(param_values, train_scores, label='Train', alpha=0.4, lw=2, c='b')\n",
    "    plt.plot(param_values, test_scores, label='Test', alpha=0.4, lw=2, c='g')\n",
    "    plt.title(model_name)\n",
    "    plt.legend(loc=7)\n",
    "    plt.xlabel(param_name + \" values\")\n",
    "    plt.ylabel(\"Cross validation RMSE\")\n",
    "\n",
    "    min_err_idx = np.where(test_scores == test_scores.min())\n",
    "    min_err_alpha = param_values[min_err_idx]\n",
    "    \n",
    "    ##print ('The minimum MAE using cross validation is:', test_scores[min_err_idx][0],'with', param_name,':', min_err_alpha[0])\n",
    "    \n",
    "    # return the training and testing scores on each parameter value\n",
    "    return train_scores, test_scores, min_err_alpha,min_err_idx"
   ]
  },
  {
   "cell_type": "code",
   "execution_count": 50,
   "metadata": {},
   "outputs": [
    {
     "name": "stdout",
     "output_type": "stream",
     "text": [
      " train shape  (1595, 97)  y-train shape  (1595,)\n",
      "\n",
      "\n",
      " The RMSE for \" Ridge \" using cross validation is: 0.1388211089592544 with alpha : 1.0060150753768842\n",
      "\n",
      "\n",
      " The RMSE for \" Lasso \" using cross validation is: 0.14224582056412474 with alpha : 0.001\n"
     ]
    },
    {
     "data": {
      "image/png": "[encoded data removed]",
      "text/plain": [
       "<Figure size 1080x720 with 1 Axes>"
      ]
     },
     "metadata": {
      "needs_background": "light"
     },
     "output_type": "display_data"
    },
    {
     "data": {
      "image/png": "[encoded data removed]",
      "text/plain": [
       "<Figure size 1080x720 with 1 Axes>"
      ]
     },
     "metadata": {
      "needs_background": "light"
     },
     "output_type": "display_data"
    }
   ],
   "source": [
    "print(' train shape ',X_train.shape,' y-train shape ',Y_train.shape)\n",
    "\n",
    "alpha = np.linspace(0.001, 100, 200)\n",
    "alpha = np.array([float(e) for e in alpha])\n",
    "\n",
    "number_of_fold = 5\n",
    "param_name = 'alpha'\n",
    "param_values = alpha\n",
    "verbose = False\n",
    "\n",
    "models = {'Ridge': Ridge(),'Lasso':Lasso()}\n",
    "min_alpha = {}\n",
    "for key in models.keys():\n",
    "    \n",
    "    train_scores, test_scores, min_err_alpha,min_err_idx = calc_params(X_train, Y_train, models.get(key), param_values, param_name, number_of_fold,verbose,key)\n",
    "    \n",
    "    print ('\\n\\n The RMSE for \\\"',key,'\\\" using cross validation is:', test_scores[min_err_idx][0],'with', param_name,':', min_err_alpha[0])\n",
    "    min_alpha[key]=min_err_alpha[0]"
   ]
  },
  {
   "cell_type": "code",
   "execution_count": 51,
   "metadata": {},
   "outputs": [
    {
     "name": "stdout",
     "output_type": "stream",
     "text": [
      "Ridge  => Root Mean Squared error on test data: 0.14337675 using alpha = 1.0060150753768842\n",
      "Lasso  => Root Mean Squared error on test data: 0.14601641 using alpha = 0.001\n"
     ]
    }
   ],
   "source": [
    "# Running the models on Test\"\n",
    "model = None\n",
    "for key in min_alpha.keys():\n",
    "    if(key=='Ridge'):\n",
    "        model = Ridge(fit_intercept=True, alpha=min_alpha.get(key))\n",
    "        model.fit(X_train, Y_train)    \n",
    "       \n",
    "    else :\n",
    "        model = Lasso(fit_intercept=True, alpha=min_alpha.get(key))\n",
    "        model.fit(X_train, Y_train)    \n",
    "        \n",
    "      \n",
    "    pred = model.predict(X_test)\n",
    "    RMSE = np.sqrt(mean_squared_error(Y_test, pred))\n",
    "    print(key,' => Root Mean Squared error on test data: %0.8f' % RMSE, 'using alpha =',min_alpha.get(key))"
   ]
  },
  {
   "cell_type": "markdown",
   "metadata": {},
   "source": [
    "E.\n",
    "\n",
    "[10 pts] Next, perform regression using Stochastic Gradient Descent Regressor from scikit-learn (again use the original train-test split in part (a). Note that SGDRegessor requires that features be standardized (with 0 mean and scaled by standard deviation). Prior to fiting the model, perform the scaling using StandardScaler from sklearn.preprocessing. For this problem, perform a grid search (using GridSearchCV from sklearn.grid_search). Your grid search should compare combinations of two penalty parameters ('l2', 'l1') and different values of alpha (alpha could vary from 0.0001 which is the default to relatively large values, say 10). Using the best parameters, train the model on the full training partition and apply the model to the set-aside test data, comparing traning and test RMSE scores. Finally, perform model optimization (similar to part d, above) to find the best \"l1_ratio\" parameter using SGDRegressor with  the \"elasticnet\" penalty parameter. [Note: \"l1_ratio\" is The Elastic Net mixing parameter, with 0 <= l1_ratio <= 1;  l1_ratio=0 corresponds to L2 penalty, l1_ratio=1 to L1 penalty; defaults to 0.15.] Using the best mixing ratio, apply the Elastic Net model, trained on full training data, to the set-aside test data and compare to the training perfromance. Provide a brief summary of your findings from the above experiments"
   ]
  },
  {
   "cell_type": "code",
   "execution_count": 52,
   "metadata": {},
   "outputs": [],
   "source": [
    "from sklearn.linear_model import SGDRegressor\n",
    "from sklearn.preprocessing import StandardScaler\n",
    "from sklearn.model_selection import GridSearchCV"
   ]
  },
  {
   "cell_type": "code",
   "execution_count": 55,
   "metadata": {},
   "outputs": [
    {
     "name": "stdout",
     "output_type": "stream",
     "text": [
      "Original data Shape (1994, 100)\n",
      "new_train shape  (1595, 97)  test shape  (399, 97)\n",
      "train target shape  (1595,)  Test target shape  (399,)\n"
     ]
    }
   ],
   "source": [
    "print('Original data Shape',community_data.shape)\n",
    "\n",
    "new_data = np.array(community_data.drop(['state','communityname','ViolentCrimesPerPop'],axis=1,inplace=False))\n",
    "\n",
    "# Standardize the data\n",
    "scaler = StandardScaler()\n",
    "scaler.fit(new_data)\n",
    "new_data = scaler.transform(new_data)\n",
    "\n",
    "\n",
    "new_train, new_test, new_target_train, new_target_test = train_test_split(new_data, community_data.ViolentCrimesPerPop, test_size=0.2, random_state=33)\n",
    "\n",
    "print(\"new_train shape \",new_train.shape, \" test shape \",new_test.shape)\n",
    "\n",
    "print(\"train target shape \",new_target_train.shape,\" Test target shape \",new_target_test.shape)\n",
    "\n",
    "x_train = np.array(new_train)\n",
    "y_train = np.array(new_target_train)\n",
    "\n",
    "x_test = np.array(new_test)\n",
    "y_test = np.array(new_target_test)"
   ]
  },
  {
   "cell_type": "code",
   "execution_count": 56,
   "metadata": {},
   "outputs": [],
   "source": [
    "sgdreg = SGDRegressor();\n",
    "\n",
    "alpha = np.linspace(.0001,10,100)\n",
    "alpha = np.array([float(e) for e in alpha])\n",
    "\n",
    "parameters = {\n",
    "    'penalty':[\"l2\",\"l1\"],\n",
    "    'alpha':alpha\n",
    "}\n",
    "gs = GridSearchCV(sgdreg, parameters, verbose=1, cv=5)"
   ]
  },
  {
   "cell_type": "code",
   "execution_count": 57,
   "metadata": {},
   "outputs": [
    {
     "name": "stdout",
     "output_type": "stream",
     "text": [
      "Fitting 5 folds for each of 200 candidates, totalling 1000 fits\n"
     ]
    },
    {
     "name": "stderr",
     "output_type": "stream",
     "text": [
      "[Parallel(n_jobs=1)]: Using backend SequentialBackend with 1 concurrent workers.\n"
     ]
    },
    {
     "name": "stdout",
     "output_type": "stream",
     "text": [
      "Wall time: 8.22 s\n"
     ]
    },
    {
     "name": "stderr",
     "output_type": "stream",
     "text": [
      "[Parallel(n_jobs=1)]: Done 1000 out of 1000 | elapsed:    8.1s finished\n"
     ]
    },
    {
     "data": {
      "text/plain": [
       "({'alpha': 0.0001, 'penalty': 'l1'}, 0.6419710602837586)"
      ]
     },
     "execution_count": 57,
     "metadata": {},
     "output_type": "execute_result"
    }
   ],
   "source": [
    "%time _ = gs.fit(X_train, Y_train)\n",
    "\n",
    "gs.best_params_, gs.best_score_"
   ]
  },
  {
   "cell_type": "code",
   "execution_count": 58,
   "metadata": {},
   "outputs": [
    {
     "name": "stdout",
     "output_type": "stream",
     "text": [
      "The optimum value of alpha is estimated as 0.0001\n",
      "\n",
      "\n",
      "The optimum value of penalty is estimated as l1\n",
      "\n",
      "\n",
      "RMSE on set-aside test data set: 0.32088795 with alpha=0.0001 penalty=l1 \n"
     ]
    }
   ],
   "source": [
    "# Using the best parameters, apply the model to the set-aside test data\n",
    "sgd = SGDRegressor()\n",
    "\n",
    "val = \"\"\n",
    "for (i, j) in gs.best_params_.items():\n",
    "    sgd.set_params(**{i:j})\n",
    "    print (\"The optimum value of\", i, \"is estimated as\", j)\n",
    "    val += str(i) + \"=\" + str(j) + \" \"\n",
    "    print(\"\\n\")\n",
    "    \n",
    "sgd.fit(X_train, Y_train)\n",
    "pred = sgd.predict(X_test)\n",
    "RMSE = np.sqrt(mean_absolute_error(Y_test, pred))\n",
    "\n",
    "print ('RMSE on set-aside test data set: %0.8f' % RMSE, \"with\",val)"
   ]
  },
  {
   "cell_type": "code",
   "execution_count": 59,
   "metadata": {},
   "outputs": [
    {
     "name": "stdout",
     "output_type": "stream",
     "text": [
      "\n",
      "\n",
      " The minimum RMSE for \"SGDRegressor\" using cross validation is: 0.14363418817880969 with l1_ratio : 0.6465\n"
     ]
    },
    {
     "data": {
      "image/png": "[encoded data removed]",
      "text/plain": [
       "<Figure size 1080x720 with 1 Axes>"
      ]
     },
     "metadata": {
      "needs_background": "light"
     },
     "output_type": "display_data"
    }
   ],
   "source": [
    "l1_ratio_range = np.linspace(0.0001,1, 100)\n",
    "param_name = \"l1_ratio\" \n",
    "param_value = l1_ratio_range\n",
    "verbose=False\n",
    "\n",
    "model = SGDRegressor(penalty='elasticnet')\n",
    "\n",
    "train_scores, test_scores, min_err_alpha,min_err_idx = calc_params(X_train, Y_train,model, param_value, param_name, 5, verbose, \"SGDRegressor\")\n",
    "    \n",
    "print ('\\n\\n The minimum RMSE for \\\"SGDRegressor\\\" using cross validation is:', test_scores[min_err_idx][0],'with', param_name,':', min_err_alpha[0])"
   ]
  },
  {
   "cell_type": "markdown",
   "metadata": {},
   "source": [
    "From above output, we can say that the l1_ratio value of 0.4141 gives the lowest RMSE on training data (0.137 ). So, we will use that to run the model on set aside test data with \"elasticnet\" as the penalty parameter."
   ]
  },
  {
   "cell_type": "code",
   "execution_count": 60,
   "metadata": {},
   "outputs": [
    {
     "name": "stdout",
     "output_type": "stream",
     "text": [
      "MAE on set-aside test data set: 0.32163126 with penalty equals to 'elasticnet' and l1_ratio =  0.6465\n"
     ]
    }
   ],
   "source": [
    "# Using the best parameters, apply the model to the set-aside test data\n",
    "sgd = SGDRegressor(penalty='elasticnet', l1_ratio=min_err_alpha[0])\n",
    "sgd.fit(X_train, Y_train)\n",
    "pred = sgd.predict(X_test)\n",
    "MAE = np.sqrt(mean_absolute_error(Y_test, pred))\n",
    "\n",
    "print ('MAE on set-aside test data set: %0.8f' % MAE, \"with penalty equals to 'elasticnet' and l1_ratio = \",min_err_alpha[0])"
   ]
  },
  {
   "cell_type": "markdown",
   "metadata": {},
   "source": [
    "RMSE FOR TRAIN DATA\n",
    "\n",
    "Ridge ==> 0.1388\n",
    "Lasso ==> 0.1422\n",
    "SGB ==> 0.1437"
   ]
  },
  {
   "cell_type": "markdown",
   "metadata": {},
   "source": [
    "------------------------------------------------"
   ]
  },
  {
   "cell_type": "markdown",
   "metadata": {},
   "source": [
    "RMSE FOR TEST DATA\n",
    "\n",
    "Ridge ==> 0.1433\n",
    "Lasso ==> 0.146\n",
    "SGB ==> 0.3217"
   ]
  },
  {
   "cell_type": "markdown",
   "metadata": {},
   "source": [
    "# QUESTION 2"
   ]
  },
  {
   "cell_type": "markdown",
   "metadata": {},
   "source": [
    "A.\n",
    "\n",
    "[5 pts] Create your own distance function that, instead of using Euclidean distance, uses Cosine similarity. This is the distance function you will use to pass to the kMeans function in the included module. Note: you should not use external function for computing Cosine. Write your own version that computes Cosine similarity between two n-dimentional vectors and returns the inverse as the distance between these vectors."
   ]
  },
  {
   "cell_type": "code",
   "execution_count": 9,
   "metadata": {},
   "outputs": [],
   "source": [
    "import pandas as pd\n",
    "import numpy as np\n",
    "import matplotlib.pyplot as plt\n",
    "%matplotlib inline"
   ]
  },
  {
   "cell_type": "code",
   "execution_count": 10,
   "metadata": {},
   "outputs": [],
   "source": [
    "def calculateEuclideanDistance(x,D):\n",
    "    dist = np.sqrt((D -x)**2).sum(axis=1)\n",
    "    return dist\n",
    "\n",
    "def calculateCosineSimilarityDistance(x,D):\n",
    "    \n",
    "    D_norm = np.linalg.norm(D) #np.array([np.linalg.norm(D[i]) for i in range(len(D))])\n",
    "    x_norm = np.linalg.norm(x)\n",
    "    #print(\"D_norm \",D_norm,\" x_norm \",x_norm)\n",
    "    sims = np.dot(D,x)/(D_norm * x_norm)\n",
    "    # The distance measure will be the inverse of Cosine similarity\n",
    "    dist = 1 - sims\n",
    "    \n",
    "    return dist"
   ]
  },
  {
   "cell_type": "markdown",
   "metadata": {},
   "source": [
    "B.\n",
    "\n",
    "[10 pts] Load the data set [Note: the data matrix provided has terms as rows and documents as columns. Since you will be clustering documents, you'll need to take the transpose of this matrix so that your main data matrix is a document x term matrix. In Numpy, you may use the \".T\" operation to obtain the transpose.] Then, use the train_test_split function (with random_state = 99) to perform a randomized split the data set (the document by term matrix) and set aside 20% for later use (see below). Use the 80% segment for clustering in the next part. Next, as in the previous assignment, perform TFxIDF transformation on these data sets. [Note: if you have difficulty with TFxIDF conversion, then use the original non-transformed data for the remainder of this assignment]."
   ]
  },
  {
   "cell_type": "code",
   "execution_count": 11,
   "metadata": {},
   "outputs": [],
   "source": [
    "# Loading the datasets\n",
    "matrix = pd.read_table(\"D:/DEPAUL MS DATA SCIENCE/DSC 478 Programming Machine learning/ASSIGNMENT 3/newsgroups5/matrix.txt\",delimiter=',',header=None)\n",
    "terms = pd.read_table(\"D:/DEPAUL MS DATA SCIENCE/DSC 478 Programming Machine learning/ASSIGNMENT 3/newsgroups5/terms.txt\",delimiter=',',header=None)\n",
    "classes = np.genfromtxt(\"D:/DEPAUL MS DATA SCIENCE/DSC 478 Programming Machine learning/ASSIGNMENT 3/newsgroups5//classes.txt\",delimiter=' ', dtype=int, skip_header=1, usecols=(1))"
   ]
  },
  {
   "cell_type": "code",
   "execution_count": 12,
   "metadata": {},
   "outputs": [
    {
     "data": {
      "text/html": [
       "<div>\n",
       "<style scoped>\n",
       "    .dataframe tbody tr th:only-of-type {\n",
       "        vertical-align: middle;\n",
       "    }\n",
       "\n",
       "    .dataframe tbody tr th {\n",
       "        vertical-align: top;\n",
       "    }\n",
       "\n",
       "    .dataframe thead th {\n",
       "        text-align: right;\n",
       "    }\n",
       "</style>\n",
       "<table border=\"1\" class=\"dataframe\">\n",
       "  <thead>\n",
       "    <tr style=\"text-align: right;\">\n",
       "      <th></th>\n",
       "      <th>0</th>\n",
       "      <th>1</th>\n",
       "      <th>2</th>\n",
       "      <th>3</th>\n",
       "      <th>4</th>\n",
       "      <th>5</th>\n",
       "      <th>6</th>\n",
       "      <th>7</th>\n",
       "      <th>8</th>\n",
       "      <th>9</th>\n",
       "      <th>...</th>\n",
       "      <th>2490</th>\n",
       "      <th>2491</th>\n",
       "      <th>2492</th>\n",
       "      <th>2493</th>\n",
       "      <th>2494</th>\n",
       "      <th>2495</th>\n",
       "      <th>2496</th>\n",
       "      <th>2497</th>\n",
       "      <th>2498</th>\n",
       "      <th>2499</th>\n",
       "    </tr>\n",
       "  </thead>\n",
       "  <tbody>\n",
       "    <tr>\n",
       "      <th>0</th>\n",
       "      <td>0</td>\n",
       "      <td>0</td>\n",
       "      <td>0</td>\n",
       "      <td>0</td>\n",
       "      <td>0</td>\n",
       "      <td>0</td>\n",
       "      <td>0</td>\n",
       "      <td>0</td>\n",
       "      <td>0</td>\n",
       "      <td>0</td>\n",
       "      <td>...</td>\n",
       "      <td>0</td>\n",
       "      <td>0</td>\n",
       "      <td>0</td>\n",
       "      <td>0</td>\n",
       "      <td>0</td>\n",
       "      <td>0</td>\n",
       "      <td>0</td>\n",
       "      <td>0</td>\n",
       "      <td>0</td>\n",
       "      <td>0</td>\n",
       "    </tr>\n",
       "    <tr>\n",
       "      <th>1</th>\n",
       "      <td>0</td>\n",
       "      <td>0</td>\n",
       "      <td>0</td>\n",
       "      <td>0</td>\n",
       "      <td>0</td>\n",
       "      <td>0</td>\n",
       "      <td>0</td>\n",
       "      <td>0</td>\n",
       "      <td>0</td>\n",
       "      <td>0</td>\n",
       "      <td>...</td>\n",
       "      <td>0</td>\n",
       "      <td>0</td>\n",
       "      <td>0</td>\n",
       "      <td>0</td>\n",
       "      <td>0</td>\n",
       "      <td>0</td>\n",
       "      <td>0</td>\n",
       "      <td>0</td>\n",
       "      <td>0</td>\n",
       "      <td>0</td>\n",
       "    </tr>\n",
       "    <tr>\n",
       "      <th>2</th>\n",
       "      <td>0</td>\n",
       "      <td>0</td>\n",
       "      <td>0</td>\n",
       "      <td>0</td>\n",
       "      <td>0</td>\n",
       "      <td>0</td>\n",
       "      <td>0</td>\n",
       "      <td>0</td>\n",
       "      <td>0</td>\n",
       "      <td>0</td>\n",
       "      <td>...</td>\n",
       "      <td>0</td>\n",
       "      <td>0</td>\n",
       "      <td>0</td>\n",
       "      <td>0</td>\n",
       "      <td>0</td>\n",
       "      <td>0</td>\n",
       "      <td>0</td>\n",
       "      <td>0</td>\n",
       "      <td>0</td>\n",
       "      <td>0</td>\n",
       "    </tr>\n",
       "    <tr>\n",
       "      <th>3</th>\n",
       "      <td>0</td>\n",
       "      <td>0</td>\n",
       "      <td>0</td>\n",
       "      <td>0</td>\n",
       "      <td>0</td>\n",
       "      <td>0</td>\n",
       "      <td>0</td>\n",
       "      <td>0</td>\n",
       "      <td>0</td>\n",
       "      <td>0</td>\n",
       "      <td>...</td>\n",
       "      <td>0</td>\n",
       "      <td>0</td>\n",
       "      <td>0</td>\n",
       "      <td>0</td>\n",
       "      <td>0</td>\n",
       "      <td>0</td>\n",
       "      <td>0</td>\n",
       "      <td>0</td>\n",
       "      <td>0</td>\n",
       "      <td>0</td>\n",
       "    </tr>\n",
       "    <tr>\n",
       "      <th>4</th>\n",
       "      <td>0</td>\n",
       "      <td>0</td>\n",
       "      <td>0</td>\n",
       "      <td>0</td>\n",
       "      <td>0</td>\n",
       "      <td>0</td>\n",
       "      <td>0</td>\n",
       "      <td>0</td>\n",
       "      <td>0</td>\n",
       "      <td>0</td>\n",
       "      <td>...</td>\n",
       "      <td>0</td>\n",
       "      <td>0</td>\n",
       "      <td>0</td>\n",
       "      <td>0</td>\n",
       "      <td>0</td>\n",
       "      <td>0</td>\n",
       "      <td>0</td>\n",
       "      <td>0</td>\n",
       "      <td>0</td>\n",
       "      <td>0</td>\n",
       "    </tr>\n",
       "  </tbody>\n",
       "</table>\n",
       "<p>5 rows × 2500 columns</p>\n",
       "</div>"
      ],
      "text/plain": [
       "   0     1     2     3     4     5     6     7     8     9     ...  2490  \\\n",
       "0     0     0     0     0     0     0     0     0     0     0  ...     0   \n",
       "1     0     0     0     0     0     0     0     0     0     0  ...     0   \n",
       "2     0     0     0     0     0     0     0     0     0     0  ...     0   \n",
       "3     0     0     0     0     0     0     0     0     0     0  ...     0   \n",
       "4     0     0     0     0     0     0     0     0     0     0  ...     0   \n",
       "\n",
       "   2491  2492  2493  2494  2495  2496  2497  2498  2499  \n",
       "0     0     0     0     0     0     0     0     0     0  \n",
       "1     0     0     0     0     0     0     0     0     0  \n",
       "2     0     0     0     0     0     0     0     0     0  \n",
       "3     0     0     0     0     0     0     0     0     0  \n",
       "4     0     0     0     0     0     0     0     0     0  \n",
       "\n",
       "[5 rows x 2500 columns]"
      ]
     },
     "execution_count": 12,
     "metadata": {},
     "output_type": "execute_result"
    }
   ],
   "source": [
    "matrix.head()"
   ]
  },
  {
   "cell_type": "code",
   "execution_count": 13,
   "metadata": {},
   "outputs": [
    {
     "data": {
      "text/html": [
       "<div>\n",
       "<style scoped>\n",
       "    .dataframe tbody tr th:only-of-type {\n",
       "        vertical-align: middle;\n",
       "    }\n",
       "\n",
       "    .dataframe tbody tr th {\n",
       "        vertical-align: top;\n",
       "    }\n",
       "\n",
       "    .dataframe thead th {\n",
       "        text-align: right;\n",
       "    }\n",
       "</style>\n",
       "<table border=\"1\" class=\"dataframe\">\n",
       "  <thead>\n",
       "    <tr style=\"text-align: right;\">\n",
       "      <th></th>\n",
       "      <th>0</th>\n",
       "    </tr>\n",
       "  </thead>\n",
       "  <tbody>\n",
       "    <tr>\n",
       "      <th>0</th>\n",
       "      <td>aa</td>\n",
       "    </tr>\n",
       "    <tr>\n",
       "      <th>1</th>\n",
       "      <td>aargh</td>\n",
       "    </tr>\n",
       "    <tr>\n",
       "      <th>2</th>\n",
       "      <td>aaron</td>\n",
       "    </tr>\n",
       "    <tr>\n",
       "      <th>3</th>\n",
       "      <td>aaronc</td>\n",
       "    </tr>\n",
       "    <tr>\n",
       "      <th>4</th>\n",
       "      <td>ab</td>\n",
       "    </tr>\n",
       "  </tbody>\n",
       "</table>\n",
       "</div>"
      ],
      "text/plain": [
       "        0\n",
       "0      aa\n",
       "1   aargh\n",
       "2   aaron\n",
       "3  aaronc\n",
       "4      ab"
      ]
     },
     "execution_count": 13,
     "metadata": {},
     "output_type": "execute_result"
    }
   ],
   "source": [
    "terms.head()"
   ]
  },
  {
   "cell_type": "code",
   "execution_count": 14,
   "metadata": {},
   "outputs": [
    {
     "data": {
      "text/plain": [
       "array([0, 1, 1, ..., 3, 4, 2])"
      ]
     },
     "execution_count": 14,
     "metadata": {},
     "output_type": "execute_result"
    }
   ],
   "source": [
    "classes"
   ]
  },
  {
   "cell_type": "code",
   "execution_count": 15,
   "metadata": {},
   "outputs": [
    {
     "data": {
      "text/plain": [
       "(9328, 2500)"
      ]
     },
     "execution_count": 15,
     "metadata": {},
     "output_type": "execute_result"
    }
   ],
   "source": [
    "matrix.shape"
   ]
  },
  {
   "cell_type": "code",
   "execution_count": 16,
   "metadata": {},
   "outputs": [
    {
     "data": {
      "text/plain": [
       "(2500, 9328)"
      ]
     },
     "execution_count": 16,
     "metadata": {},
     "output_type": "execute_result"
    }
   ],
   "source": [
    "matrixT = matrix.T\n",
    "matrixT.shape"
   ]
  },
  {
   "cell_type": "code",
   "execution_count": 17,
   "metadata": {},
   "outputs": [
    {
     "data": {
      "text/plain": [
       "(2500, 9328)"
      ]
     },
     "execution_count": 17,
     "metadata": {},
     "output_type": "execute_result"
    }
   ],
   "source": [
    "DTmatrix = np.mat(matrixT)\n",
    "DTmatrix.shape"
   ]
  },
  {
   "cell_type": "code",
   "execution_count": 18,
   "metadata": {},
   "outputs": [
    {
     "data": {
      "text/plain": [
       "(9328, 1)"
      ]
     },
     "execution_count": 18,
     "metadata": {},
     "output_type": "execute_result"
    }
   ],
   "source": [
    "terms.shape"
   ]
  },
  {
   "cell_type": "code",
   "execution_count": 19,
   "metadata": {},
   "outputs": [
    {
     "data": {
      "text/plain": [
       "(2500,)"
      ]
     },
     "execution_count": 19,
     "metadata": {},
     "output_type": "execute_result"
    }
   ],
   "source": [
    "classes.shape"
   ]
  },
  {
   "cell_type": "code",
   "execution_count": 20,
   "metadata": {},
   "outputs": [],
   "source": [
    "from sklearn.model_selection import train_test_split\n",
    "x_train, x_test, y_train, ytest = train_test_split(matrixT, classes, test_size=0.2, random_state=99)"
   ]
  },
  {
   "cell_type": "code",
   "execution_count": 21,
   "metadata": {},
   "outputs": [
    {
     "name": "stdout",
     "output_type": "stream",
     "text": [
      "train :  (2000, 9328)\n",
      "Test :  (500, 9328)\n"
     ]
    }
   ],
   "source": [
    "print(\"train : \",x_train.shape)\n",
    "print(\"Test : \",x_test.shape)"
   ]
  },
  {
   "cell_type": "markdown",
   "metadata": {},
   "source": [
    "C.\n",
    "\n",
    "\n",
    "[20 pts] Perform Kmeans clustering on the transformed training data from part (b) Perform a qualitative analysis of the clusters by examining top features in each cluster and identifying patterns in the data. To facilitate your analysis of the clusters, write a function to display the top N terms in each cluster sorted by decreasing centroid weights for each term in the cluster (mean TFxIDF frequency of the term). Your output should also display the cluster DF value for the top N terms. The cluster DF value for a term t in a cluster C is the percentage of docs in cluster C in which term t appears (so, if a cluster has 500 documents, and term \"game\" appears in 100 of those 500 documents, then DF value of \"game\" in that cluster is 0.2 or 20%). For each cluster, you should also display the cluster size (the nunber of documents in the cluster). Here is an example of how this output might look like (here the top 10 terms for a sample of clusters are displayed in decreasing order of mean TFxIDF weights from the cluster centroids (the \"Freq\" column), but in addition the cluster DF values (both raw and as a percentage) are also shown)."
   ]
  },
  {
   "cell_type": "code",
   "execution_count": 22,
   "metadata": {},
   "outputs": [],
   "source": [
    "## get random centroids\n",
    "def randCent(dataSet, k):\n",
    "    n = np.shape(dataSet)[1]\n",
    "    centroids = np.zeros((k,n), dtype=float)\n",
    "    for j in range(n): #create random cluster centers\n",
    "        minJ = min(dataSet[:,j])\n",
    "        rangeJ = float(max(dataSet[:,j]) - minJ)\n",
    "        centroids[:,j] = minJ + rangeJ * np.random.rand(k)\n",
    "    return centroids"
   ]
  },
  {
   "cell_type": "code",
   "execution_count": 25,
   "metadata": {},
   "outputs": [],
   "source": [
    "def kmeans(D,k,distMeas= calculateCosineSimilarityDistance,createCentroid = randCent):\n",
    "    m = np.shape(D)[0]\n",
    "    \n",
    "    ## cluster assignment matrix with 2 cols. one for cluster index and 2nd one for cluster error (distance from cluster centroid to the current point)\n",
    "    clusterAssment = np.mat(np.zeros((m,2)))\n",
    "    \n",
    "    print('calculating centroids : Start')\n",
    "    centroids = createCentroid(D,k)\n",
    "    print('calculating centroids : End','\\n centroids are :: \\n',centroids)\n",
    "    clusterChanged = True\n",
    "    while clusterChanged:\n",
    "        clusterChanged = False\n",
    "        ## loop over data points and assign assign it to the closest centroid\n",
    "        for i in range(m):\n",
    "            minDIst = np.inf;\n",
    "            minIndex = -1;\n",
    "            for j in range(k):\n",
    "                distJI = distMeas(centroids[j,:],D[i,:])\n",
    "    \n",
    "                if(distJI < minDIst):\n",
    "                    minDIst = distJI;\n",
    "                    minIndex = j;\n",
    "            if clusterAssment[i,0] !=minIndex : clusterChanged = True\n",
    "            clusterAssment[i,:] = minIndex, minDIst**2\n",
    "        \n",
    "        ## update the centroid\n",
    "        for cent in range(k):\n",
    "            ptsInClust = D[np.nonzero(clusterAssment[:,0] == cent)[0]]\n",
    "            centroids[cent,:] = np.mean(ptsInClust,axis=0)\n",
    "    return centroids, clusterAssment"
   ]
  },
  {
   "cell_type": "code",
   "execution_count": 26,
   "metadata": {},
   "outputs": [
    {
     "name": "stdout",
     "output_type": "stream",
     "text": [
      "calculating centroids : Start\n",
      "calculating centroids : End \n",
      " centroids are :: \n",
      " [[5.83442057e-01 9.89087700e-02 3.86504510e+01 ... 4.07351964e-01\n",
      "  3.46459262e-01 1.44694089e+00]\n",
      " [1.68332438e-01 3.51402142e-01 2.08182815e+01 ... 1.14324965e+00\n",
      "  5.36568864e-01 2.93262828e+00]\n",
      " [6.86813407e-01 3.97675133e-01 4.58219134e+01 ... 4.58333202e-02\n",
      "  2.48472633e-02 2.45759099e+00]\n",
      " [3.45263847e-02 7.73611139e-02 3.23023310e+01 ... 1.12316118e+00\n",
      "  3.11048765e-01 4.56083593e+00]\n",
      " [5.32521057e-01 3.63360123e-01 2.54725653e+01 ... 1.73677317e-01\n",
      "  1.36002962e-01 7.40078358e-01]]\n"
     ]
    },
    {
     "name": "stderr",
     "output_type": "stream",
     "text": [
      "C:\\Users\\razia\\Anaconda3\\lib\\site-packages\\numpy\\matrixlib\\defmatrix.py:447: RuntimeWarning: Mean of empty slice.\n",
      "  return N.ndarray.mean(self, axis, dtype, out, keepdims=True)._collapse(axis)\n",
      "C:\\Users\\razia\\Anaconda3\\lib\\site-packages\\numpy\\core\\_methods.py:78: RuntimeWarning: invalid value encountered in true_divide\n",
      "  ret, rcount, out=ret, casting='unsafe', subok=False)\n",
      "C:\\Users\\razia\\Anaconda3\\lib\\site-packages\\ipykernel_launcher.py:20: RuntimeWarning: invalid value encountered in less\n"
     ]
    },
    {
     "name": "stdout",
     "output_type": "stream",
     "text": [
      "Wall time: 3min 9s\n"
     ]
    }
   ],
   "source": [
    "%%time\n",
    "data = np.mat(x_train)\n",
    "centroids, clusterAssment = kmeans(data,5)"
   ]
  },
  {
   "cell_type": "code",
   "execution_count": 27,
   "metadata": {},
   "outputs": [
    {
     "name": "stdout",
     "output_type": "stream",
     "text": [
      " centroids shape (5, 9328)\n",
      " clusterAssment shape  (2000, 2)\n"
     ]
    }
   ],
   "source": [
    "print(\" centroids shape\",centroids.shape)\n",
    "print(\" clusterAssment shape \",clusterAssment.shape)"
   ]
  },
  {
   "cell_type": "code",
   "execution_count": 28,
   "metadata": {},
   "outputs": [],
   "source": [
    "def cluster_report(data,terms, clusters, centroids):\n",
    "    clustersDF = pd.DataFrame(clusters)\n",
    "    term_list = pd.Series(terms[0], name='Term')\n",
    "    \n",
    "    cluster_labels = np.unique(clustersDF[0])\n",
    "    result = {}\n",
    "    size ={}\n",
    "    for c in cluster_labels:\n",
    "        c = int(c)\n",
    "        print(c)\n",
    "        ## get the index of the train data from cluster c\n",
    "        cl_data = x_train.index[clustersDF[0]==c]\n",
    "\n",
    "        # gen centroids/frequency for the current (ith) cluster\n",
    "        centroid = pd.Series(centroids[c], name='Freq')\n",
    "\n",
    "        cl_size = len(cl_data)\n",
    "        size[c] = cl_size\n",
    "        \n",
    "        ## doc by term\n",
    "        docs_from_cluster = x_train[x_train.index.isin(cl_data)]\n",
    "\n",
    "        ## term by doc\n",
    "        docs_from_cluster = docs_from_cluster.T\n",
    "\n",
    "        ## count all non zero terms\n",
    "        DF = (pd.DataFrame([(docs_from_cluster!=0).sum(1)]).T)\n",
    "\n",
    "        ## if a cluster has 500 documents, and term \"game\" appears in 100 of those 500 documents, \n",
    "        ##then DF value of \"game\" in that cluster is 0.2 or 20%\n",
    "        DF = DF / size[c]\n",
    "        ## divide each term count by number of docs in cluser\n",
    "        \n",
    "        DF.columns=['DF']\n",
    "        \n",
    "        DF_PERCENT = DF.copy()\n",
    "        DF_PERCENT = DF_PERCENT * 100\n",
    "        DF_PERCENT.columns=['% of Docs']\n",
    "        ##print(\"docs_from_cluster \\n\",docs_from_cluster)\n",
    "\n",
    "        ## concatenate the terms, centroid and DF values for the cluster\n",
    "        term_centroid = pd.concat([term_list, centroid,DF,DF_PERCENT],axis=1)\n",
    "        \n",
    "        result[c] = term_centroid\n",
    "    return result , size"
   ]
  },
  {
   "cell_type": "code",
   "execution_count": 29,
   "metadata": {},
   "outputs": [],
   "source": [
    "def display_clusters(clusterDict, clusterSize, numTerms):\n",
    "    for c in clusterDict.keys():\n",
    "        cluster_rep = clusterDict[c]\n",
    "        print(\"\\nCluster \", c, \"size =\", clusterSize[c])\n",
    "        print(\"----------------------------------------------\")\n",
    "        print(cluster_rep.sort_values(by=\"DF\", ascending=False).head(numTerms))\n",
    "    return"
   ]
  },
  {
   "cell_type": "code",
   "execution_count": 30,
   "metadata": {},
   "outputs": [
    {
     "name": "stdout",
     "output_type": "stream",
     "text": [
      "0\n",
      "1\n",
      "2\n",
      "4\n",
      "dict_keys([0, 1, 2, 4])\n",
      "\n",
      "cluster# :: # of docs\n",
      "0  \t ::  354\n",
      "1  \t ::  5\n",
      "2  \t ::  505\n",
      "4  \t ::  1136\n"
     ]
    }
   ],
   "source": [
    "x_train = pd.DataFrame(x_train)\n",
    "clusterDict_nonidf , clusterSize_nonidf = cluster_report(x_train,terms,clusterAssment,centroids)\n",
    "print(clusterDict_nonidf.keys())\n",
    "\n",
    "print(\"\\ncluster# :: # of docs\")\n",
    "for key in clusterSize_nonidf.keys():\n",
    "      print(key,\" \\t :: \",clusterSize_nonidf[key])"
   ]
  },
  {
   "cell_type": "code",
   "execution_count": 31,
   "metadata": {},
   "outputs": [
    {
     "name": "stdout",
     "output_type": "stream",
     "text": [
      "\n",
      "Cluster  0 size = 354\n",
      "----------------------------------------------\n",
      "         Term      Freq        DF   % of Docs\n",
      "7895  subject  1.073446  1.000000  100.000000\n",
      "9025   window  2.505650  0.799435   79.943503\n",
      "9129    write  0.629944  0.463277   46.327684\n",
      "2933     file  1.587571  0.437853   43.785311\n",
      "2296       do  1.036723  0.347458   34.745763\n",
      "5795       on  0.559322  0.338983   33.898305\n",
      "4449     know  0.488701  0.336158   33.615819\n",
      "8174    thank  0.350282  0.333333   33.333333\n",
      "7063      run  0.666667  0.330508   33.050847\n",
      "9084     work  0.559322  0.327684   32.768362\n",
      "\n",
      "Cluster  1 size = 5\n",
      "----------------------------------------------\n",
      "       Term  Freq   DF  % of Docs\n",
      "443    asqq   5.0  1.0      100.0\n",
      "2508     ei   8.2  1.0      100.0\n",
      "3317   gkwt   3.2  1.0      100.0\n",
      "744     bhj   4.6  1.0      100.0\n",
      "1420  cliff   1.0  1.0      100.0\n",
      "5680   nriz   4.0  1.0      100.0\n",
      "5428    mwt   3.8  1.0      100.0\n",
      "3385     gp   4.6  1.0      100.0\n",
      "4835     ma   7.0  1.0      100.0\n",
      "5426     mw  10.2  1.0      100.0\n",
      "\n",
      "Cluster  2 size = 505\n",
      "----------------------------------------------\n",
      "          Term      Freq        DF   % of Docs\n",
      "7895   subject  1.049505  1.000000  100.000000\n",
      "7115      sale  0.744554  0.461386   46.138614\n",
      "2550     email  0.400000  0.332673   33.267327\n",
      "6207     pleas  0.392079  0.326733   32.673267\n",
      "8174     thank  0.259406  0.253465   25.346535\n",
      "5753     offer  0.312871  0.221782   22.178218\n",
      "4052  interest  0.257426  0.205941   20.594059\n",
      "3933    includ  0.300990  0.196040   19.603960\n",
      "439        ask  0.253465  0.196040   19.603960\n",
      "7406      ship  0.310891  0.194059   19.405941\n",
      "\n",
      "Cluster  4 size = 1136\n",
      "----------------------------------------------\n",
      "         Term      Freq        DF   % of Docs\n",
      "7895  subject  1.093310  1.000000  100.000000\n",
      "9129    write  0.860915  0.654049   65.404930\n",
      "417    articl  0.646127  0.503521   50.352113\n",
      "5795       on  1.040493  0.497359   49.735915\n",
      "4319     just  0.554577  0.360035   36.003521\n",
      "8203    think  0.601232  0.355634   35.563380\n",
      "4449     know  0.607394  0.345951   34.595070\n",
      "3266      get  0.605634  0.337148   33.714789\n",
      "6049    peopl  0.675176  0.316901   31.690141\n",
      "3339       go  0.564261  0.314261   31.426056\n"
     ]
    }
   ],
   "source": [
    "numOfTopNTerms = 10\n",
    "display_clusters(clusterDict_nonidf,clusterSize_nonidf,numOfTopNTerms)"
   ]
  },
  {
   "cell_type": "code",
   "execution_count": 32,
   "metadata": {},
   "outputs": [
    {
     "data": {
      "text/plain": [
       "(9328,)"
      ]
     },
     "execution_count": 32,
     "metadata": {},
     "output_type": "execute_result"
    }
   ],
   "source": [
    "## Repeating the above with DT_IDF\n",
    "termFreqs = matrix.sum(axis=1).astype(np.int64)\n",
    "termFreqs.shape"
   ]
  },
  {
   "cell_type": "code",
   "execution_count": 33,
   "metadata": {},
   "outputs": [
    {
     "data": {
      "image/png": "[encoded data removed]",
      "text/plain": [
       "<Figure size 432x288 with 1 Axes>"
      ]
     },
     "metadata": {
      "needs_background": "light"
     },
     "output_type": "display_data"
    }
   ],
   "source": [
    "plt.plot(sorted(termFreqs, reverse=True))\n",
    "plt.xlabel('Frequency')\n",
    "plt.ylabel('Terms')\n",
    "plt.show()"
   ]
  },
  {
   "cell_type": "code",
   "execution_count": 34,
   "metadata": {},
   "outputs": [
    {
     "name": "stdout",
     "output_type": "stream",
     "text": [
      "TD  (9328, 2500)\n",
      "DT  (2500, 9328)\n"
     ]
    }
   ],
   "source": [
    "print(\"TD \", matrix.shape)\n",
    "DTmatrix = matrix.T\n",
    "print(\"DT \",DTmatrix.shape)"
   ]
  },
  {
   "cell_type": "code",
   "execution_count": 35,
   "metadata": {},
   "outputs": [
    {
     "name": "stdout",
     "output_type": "stream",
     "text": [
      "numTerms  9328  NDocs  2500\n",
      "(9328, 1)\n",
      "[[2500. 2500. 2500. ... 2500. 2500. 2500.]\n",
      " [2500. 2500. 2500. ... 2500. 2500. 2500.]\n",
      " [2500. 2500. 2500. ... 2500. 2500. 2500.]\n",
      " ...\n",
      " [2500. 2500. 2500. ... 2500. 2500. 2500.]\n",
      " [2500. 2500. 2500. ... 2500. 2500. 2500.]\n",
      " [2500. 2500. 2500. ... 2500. 2500. 2500.]]\n",
      "[[7.97 7.97 7.97 ... 7.97 7.97 7.97]\n",
      " [8.7  8.7  8.7  ... 8.7  8.7  8.7 ]\n",
      " [6.83 6.83 6.83 ... 6.83 6.83 6.83]\n",
      " ...\n",
      " [9.7  9.7  9.7  ... 9.7  9.7  9.7 ]\n",
      " [9.7  9.7  9.7  ... 9.7  9.7  9.7 ]\n",
      " [9.29 9.29 9.29 ... 9.29 9.29 9.29]]\n",
      "TD_tfidf       0     1     2     3     4     5     6     7     8     9     ...  2490  \\\n",
      "0      0.0   0.0   0.0   0.0   0.0   0.0   0.0   0.0   0.0   0.0  ...   0.0   \n",
      "1      0.0   0.0   0.0   0.0   0.0   0.0   0.0   0.0   0.0   0.0  ...   0.0   \n",
      "2      0.0   0.0   0.0   0.0   0.0   0.0   0.0   0.0   0.0   0.0  ...   0.0   \n",
      "3      0.0   0.0   0.0   0.0   0.0   0.0   0.0   0.0   0.0   0.0  ...   0.0   \n",
      "4      0.0   0.0   0.0   0.0   0.0   0.0   0.0   0.0   0.0   0.0  ...   0.0   \n",
      "...    ...   ...   ...   ...   ...   ...   ...   ...   ...   ...  ...   ...   \n",
      "9323   0.0   0.0   0.0   0.0   0.0   0.0   0.0   0.0   0.0   0.0  ...   0.0   \n",
      "9324   0.0   0.0   0.0   0.0   0.0   0.0   0.0   0.0   0.0   0.0  ...   0.0   \n",
      "9325   0.0   0.0   0.0   0.0   0.0   0.0   0.0   0.0   0.0   0.0  ...   0.0   \n",
      "9326   0.0   0.0   0.0   0.0   0.0   0.0   0.0   0.0   0.0   0.0  ...   0.0   \n",
      "9327   0.0   0.0   0.0   0.0   0.0   0.0   0.0   0.0   0.0   0.0  ...   0.0   \n",
      "\n",
      "      2491  2492  2493  2494  2495  2496  2497  2498  2499  \n",
      "0      0.0   0.0   0.0   0.0   0.0   0.0   0.0   0.0   0.0  \n",
      "1      0.0   0.0   0.0   0.0   0.0   0.0   0.0   0.0   0.0  \n",
      "2      0.0   0.0   0.0   0.0   0.0   0.0   0.0   0.0   0.0  \n",
      "3      0.0   0.0   0.0   0.0   0.0   0.0   0.0   0.0   0.0  \n",
      "4      0.0   0.0   0.0   0.0   0.0   0.0   0.0   0.0   0.0  \n",
      "...    ...   ...   ...   ...   ...   ...   ...   ...   ...  \n",
      "9323   0.0   0.0   0.0   0.0   0.0   0.0   0.0   0.0   0.0  \n",
      "9324   0.0   0.0   0.0   0.0   0.0   0.0   0.0   0.0   0.0  \n",
      "9325   0.0   0.0   0.0   0.0   0.0   0.0   0.0   0.0   0.0  \n",
      "9326   0.0   0.0   0.0   0.0   0.0   0.0   0.0   0.0   0.0  \n",
      "9327   0.0   0.0   0.0   0.0   0.0   0.0   0.0   0.0   0.0  \n",
      "\n",
      "[9328 rows x 2500 columns]\n",
      "DT_tfidf.shape : (2500, 9328)\n"
     ]
    }
   ],
   "source": [
    "numTerms=DTmatrix.shape[1]\n",
    "NDocs = DTmatrix.shape[0]\n",
    "TDmatrix = matrix\n",
    "print(\"numTerms \",numTerms,\" NDocs \",NDocs)\n",
    "\n",
    "# Note: doc frequency (df) for a term t is the number of docs in which t appears divided by total number of docs\n",
    "\n",
    "# first let's find the doc counts for each term\n",
    "\n",
    "DF = pd.DataFrame([(TDmatrix!=0).sum(1)]).T\n",
    "print(DF.shape)\n",
    "\n",
    "# Create a matrix with all entries = NDocs\n",
    "NMatrix=np.ones(np.shape(TDmatrix), dtype=float)*NDocs\n",
    "np.set_printoptions(precision=2,suppress=True,linewidth=120)\n",
    "print(NMatrix)\n",
    "\n",
    "# Convert each entry into IDF values\n",
    "# IDF is the log of the inverse of document frequency\n",
    "# Note that IDF is only a function of the term, so all columns will be identical.\n",
    "\n",
    "IDF = np.log2(np.divide(NMatrix, np.array(DF)))\n",
    "\n",
    "np.set_printoptions(precision=2,suppress=True)\n",
    "print(IDF)\n",
    "\n",
    "pd.set_option(\"display.precision\", 2)\n",
    "\n",
    "# Finally compute the TFxIDF values for each document-term entry\n",
    "TD_tfidf = TDmatrix * IDF\n",
    "\n",
    "print(\"TD_tfidf\",TD_tfidf)\n",
    "\n",
    "DT_tfidf = TD_tfidf.T\n",
    "DT_tfidf = np.mat(DT_tfidf)\n",
    "\n",
    "print(\"DT_tfidf.shape :\",DT_tfidf.shape)\n"
   ]
  },
  {
   "cell_type": "code",
   "execution_count": 36,
   "metadata": {},
   "outputs": [],
   "source": [
    "x_train_df, x_test_idf, y_train_idf, y_test_idf = train_test_split(DT_tfidf, classes, test_size=0.2, random_state=99)"
   ]
  },
  {
   "cell_type": "code",
   "execution_count": 37,
   "metadata": {},
   "outputs": [
    {
     "name": "stdout",
     "output_type": "stream",
     "text": [
      "calculating centroids : Start\n",
      "calculating centroids : End \n",
      " centroids are :: \n",
      " [[  0.23   3.36 298.78 ...   0.37   5.07  37.13]\n",
      " [  5.33   0.73  40.2  ...   1.87   3.26  33.14]\n",
      " [  4.82   0.67  95.18 ...   5.89   8.32  32.51]\n",
      " [  2.39   6.65 267.68 ...  10.32   5.22  46.04]\n",
      " [  7.43   5.41 141.7  ...   2.87   7.79  20.98]]\n"
     ]
    },
    {
     "name": "stderr",
     "output_type": "stream",
     "text": [
      "C:\\Users\\razia\\Anaconda3\\lib\\site-packages\\ipykernel_launcher.py:20: RuntimeWarning: invalid value encountered in less\n"
     ]
    },
    {
     "name": "stdout",
     "output_type": "stream",
     "text": [
      " clusterAssment :  (2000, 2)\n",
      " centroids :  (5, 9328)\n"
     ]
    }
   ],
   "source": [
    "data = np.mat(x_train_df)\n",
    "centroids, clusterAssment = kmeans(data,5)\n",
    "\n",
    "print(\" clusterAssment : \",clusterAssment.shape)\n",
    "print(\" centroids : \",centroids.shape)"
   ]
  },
  {
   "cell_type": "code",
   "execution_count": 38,
   "metadata": {},
   "outputs": [
    {
     "data": {
      "text/plain": [
       "array([[0.  , 0.  , 0.  , ..., 1.39, 0.  , 0.  ],\n",
       "       [ nan,  nan,  nan, ...,  nan,  nan,  nan],\n",
       "       [0.03, 0.03, 0.27, ..., 0.01, 0.01, 0.05],\n",
       "       [0.  , 0.  , 0.  , ..., 0.  , 0.  , 0.  ],\n",
       "       [ nan,  nan,  nan, ...,  nan,  nan,  nan]])"
      ]
     },
     "execution_count": 38,
     "metadata": {},
     "output_type": "execute_result"
    }
   ],
   "source": [
    "centroids"
   ]
  },
  {
   "cell_type": "code",
   "execution_count": 39,
   "metadata": {},
   "outputs": [
    {
     "name": "stdout",
     "output_type": "stream",
     "text": [
      "0\n",
      "2\n",
      "3\n",
      "dict_keys([0, 2, 3])\n",
      "\n",
      "cluster# :: # of docs\n",
      "0  \t ::  7\n",
      "2  \t ::  1967\n",
      "3  \t ::  26\n"
     ]
    }
   ],
   "source": [
    "x_train_df = pd.DataFrame(x_train_df)\n",
    "clusterDict , clusterSize = cluster_report(x_train_df,terms,clusterAssment,centroids)\n",
    "print(clusterDict.keys())\n",
    "\n",
    "print(\"\\ncluster# :: # of docs\")\n",
    "for key in clusterSize.keys():\n",
    "      print(key,\" \\t :: \",clusterSize[key])"
   ]
  },
  {
   "cell_type": "code",
   "execution_count": 40,
   "metadata": {},
   "outputs": [
    {
     "name": "stdout",
     "output_type": "stream",
     "text": [
      "\n",
      "Cluster  0 size = 7\n",
      "----------------------------------------------\n",
      "         Term      Freq    DF  % of Docs\n",
      "7895  subject      0.00  1.00     100.00\n",
      "547        ax  41371.61  0.86      85.71\n",
      "4982      max   2826.98  0.86      85.71\n",
      "9144       wt     41.19  0.71      71.43\n",
      "6183       pl    296.54  0.71      71.43\n",
      "8275       tm     51.71  0.71      71.43\n",
      "5238       ml     30.92  0.71      71.43\n",
      "5975     part      4.59  0.71      71.43\n",
      "3275    ghjkn     17.41  0.71      71.43\n",
      "3279       gi     15.39  0.71      71.43\n",
      "\n",
      "Cluster  2 size = 1967\n",
      "----------------------------------------------\n",
      "         Term  Freq    DF  % of Docs\n",
      "7895  subject  0.00  1.00     100.00\n",
      "9129    write  0.69  0.48      48.20\n",
      "5795       on  1.05  0.40      39.50\n",
      "417    articl  0.69  0.36      35.99\n",
      "4449     know  0.87  0.30      29.74\n",
      "3266      get  0.89  0.29      29.49\n",
      "4319     just  0.79  0.28      28.22\n",
      "8203    think  0.79  0.24      24.40\n",
      "8255     time  0.80  0.23      23.08\n",
      "3339       go  0.80  0.22      21.56\n",
      "\n",
      "Cluster  3 size = 26\n",
      "----------------------------------------------\n",
      "         Term   Freq    DF  % of Docs\n",
      "7895  subject   0.00  1.00     100.00\n",
      "1894      cup   4.36  0.58      57.69\n",
      "1250    champ   8.04  0.54      53.85\n",
      "9029     wing   4.06  0.50      50.00\n",
      "3708   hockei   3.76  0.50      50.00\n",
      "3333       gm  37.55  0.46      46.15\n",
      "8098     team   2.98  0.46      46.15\n",
      "2963    first   1.67  0.42      42.31\n",
      "3339       go   1.43  0.42      42.31\n",
      "6204  playoff   2.56  0.42      42.31\n"
     ]
    }
   ],
   "source": [
    "numOfTopNTerms = 10\n",
    "display_clusters(clusterDict,clusterSize,numOfTopNTerms)"
   ]
  },
  {
   "cell_type": "markdown",
   "metadata": {},
   "source": [
    "D.\n",
    "\n",
    "[5 pts] Using the cluster assignments from your Kmeans clustering and the original cluster labels for the training document, compare your clusters to the re-assigned classes by computing the Completeness and Homogeneity values. You should do this for the best values of k and the best clustering run you settled on in the previous part"
   ]
  },
  {
   "cell_type": "code",
   "execution_count": 41,
   "metadata": {},
   "outputs": [
    {
     "data": {
      "text/plain": [
       "array([1, 0, 0, ..., 3, 1, 0])"
      ]
     },
     "execution_count": 41,
     "metadata": {},
     "output_type": "execute_result"
    }
   ],
   "source": [
    "y_train_idf"
   ]
  },
  {
   "cell_type": "code",
   "execution_count": 42,
   "metadata": {},
   "outputs": [
    {
     "data": {
      "text/plain": [
       "matrix([[2., 2., 2., ..., 2., 2., 2.]])"
      ]
     },
     "execution_count": 42,
     "metadata": {},
     "output_type": "execute_result"
    }
   ],
   "source": [
    "clusterAssment.T[0]"
   ]
  },
  {
   "cell_type": "code",
   "execution_count": 43,
   "metadata": {},
   "outputs": [
    {
     "name": "stdout",
     "output_type": "stream",
     "text": [
      "completeness_score =  0.22211027922487894\n",
      "homogeneity_score =  0.012781324399281646\n"
     ]
    }
   ],
   "source": [
    "from sklearn.metrics import completeness_score, homogeneity_score\n",
    "\n",
    "#NOTE: this generates a random score every time you run the cluster\n",
    "print(\"completeness_score = \",completeness_score(y_train_idf,np.ravel(clusterAssment.T[0])))\n",
    "print(\"homogeneity_score = \",homogeneity_score(y_train_idf,np.ravel(clusterAssment.T[0])))"
   ]
  },
  {
   "cell_type": "markdown",
   "metadata": {},
   "source": [
    "E.\n",
    "\n",
    "[10 pts] Finally, using your cluster assignments as class labels, categorize each of the documents in the 20% set-aside data into each of the appropriate clusters (using your final clustering results in part c). Your categorization should be based on Cosine similarity between each test document and cluster centroids. For each test document show the assigned cluster label as well as Cosine similarity to the corresponding cluster."
   ]
  },
  {
   "cell_type": "code",
   "execution_count": 44,
   "metadata": {},
   "outputs": [
    {
     "name": "stdout",
     "output_type": "stream",
     "text": [
      "(5, 9328)\n",
      "[[0.   0.   0.   ... 1.39 0.   0.  ]\n",
      " [ nan  nan  nan ...  nan  nan  nan]\n",
      " [0.03 0.03 0.27 ... 0.01 0.01 0.05]\n",
      " [0.   0.   0.   ... 0.   0.   0.  ]\n",
      " [ nan  nan  nan ...  nan  nan  nan]]\n",
      "vs_test_idf shape  (500, 9328)\n"
     ]
    }
   ],
   "source": [
    "print(centroids.shape)\n",
    "print(centroids)\n",
    "print(\"vs_test_idf shape \",x_test_idf.shape)"
   ]
  },
  {
   "cell_type": "code",
   "execution_count": 45,
   "metadata": {},
   "outputs": [],
   "source": [
    "results = []\n",
    "\n",
    "x_test = np.array(x_test_idf)\n",
    "for doc in x_test:\n",
    "    dic = {}\n",
    "    sim = []\n",
    "    cluster = 0\n",
    "    for centroid in centroids:\n",
    "        val = np.ravel(calculateCosineSimilarityDistance(doc,centroid))[0]\n",
    "        centroid_doc_sim = 1 - val #Need to subtract from 1 as our function returns distance and not similarity\n",
    "        #print(\"centroid_doc_sim \",centroid_doc_sim)\n",
    "        sim.append(centroid_doc_sim) \n",
    "        dic['Cosine Similarity to Cluster '+str(cluster)] = str(np.ravel(centroid_doc_sim)[0])\n",
    "        cluster += 1\n",
    "        \n",
    "    dic['Predicted Cluster'] = sim.index(max(sim)) \n",
    "    \n",
    "    results.append(dic)\n",
    "\n",
    "test_cluster = pd.DataFrame(results)"
   ]
  },
  {
   "cell_type": "code",
   "execution_count": 46,
   "metadata": {},
   "outputs": [
    {
     "name": "stdout",
     "output_type": "stream",
     "text": [
      "Categorized test data shape  (500, 6)\n"
     ]
    },
    {
     "data": {
      "text/html": [
       "<div>\n",
       "<style scoped>\n",
       "    .dataframe tbody tr th:only-of-type {\n",
       "        vertical-align: middle;\n",
       "    }\n",
       "\n",
       "    .dataframe tbody tr th {\n",
       "        vertical-align: top;\n",
       "    }\n",
       "\n",
       "    .dataframe thead th {\n",
       "        text-align: right;\n",
       "    }\n",
       "</style>\n",
       "<table border=\"1\" class=\"dataframe\">\n",
       "  <thead>\n",
       "    <tr style=\"text-align: right;\">\n",
       "      <th></th>\n",
       "      <th>Cosine Similarity to Cluster 0</th>\n",
       "      <th>Cosine Similarity to Cluster 1</th>\n",
       "      <th>Cosine Similarity to Cluster 2</th>\n",
       "      <th>Cosine Similarity to Cluster 3</th>\n",
       "      <th>Cosine Similarity to Cluster 4</th>\n",
       "      <th>Predicted Cluster</th>\n",
       "    </tr>\n",
       "  </thead>\n",
       "  <tbody>\n",
       "    <tr>\n",
       "      <th>0</th>\n",
       "      <td>4.5583202166188386e-06</td>\n",
       "      <td>nan</td>\n",
       "      <td>0.1763707070454703</td>\n",
       "      <td>0.01375277656698004</td>\n",
       "      <td>nan</td>\n",
       "      <td>2</td>\n",
       "    </tr>\n",
       "    <tr>\n",
       "      <th>1</th>\n",
       "      <td>0.0</td>\n",
       "      <td>nan</td>\n",
       "      <td>0.10411406895945108</td>\n",
       "      <td>0.0139558234318784</td>\n",
       "      <td>nan</td>\n",
       "      <td>2</td>\n",
       "    </tr>\n",
       "    <tr>\n",
       "      <th>2</th>\n",
       "      <td>3.501293787033788e-05</td>\n",
       "      <td>nan</td>\n",
       "      <td>0.13244807056448837</td>\n",
       "      <td>0.006756922478133642</td>\n",
       "      <td>nan</td>\n",
       "      <td>2</td>\n",
       "    </tr>\n",
       "    <tr>\n",
       "      <th>3</th>\n",
       "      <td>3.934667201721531e-06</td>\n",
       "      <td>nan</td>\n",
       "      <td>0.060113302434285254</td>\n",
       "      <td>0.003052568244018339</td>\n",
       "      <td>nan</td>\n",
       "      <td>2</td>\n",
       "    </tr>\n",
       "    <tr>\n",
       "      <th>4</th>\n",
       "      <td>5.661633320164228e-06</td>\n",
       "      <td>nan</td>\n",
       "      <td>0.1989123427197792</td>\n",
       "      <td>0.01974662329260468</td>\n",
       "      <td>nan</td>\n",
       "      <td>2</td>\n",
       "    </tr>\n",
       "    <tr>\n",
       "      <th>...</th>\n",
       "      <td>...</td>\n",
       "      <td>...</td>\n",
       "      <td>...</td>\n",
       "      <td>...</td>\n",
       "      <td>...</td>\n",
       "      <td>...</td>\n",
       "    </tr>\n",
       "    <tr>\n",
       "      <th>495</th>\n",
       "      <td>0.0</td>\n",
       "      <td>nan</td>\n",
       "      <td>0.11168157179985272</td>\n",
       "      <td>0.006488193301328993</td>\n",
       "      <td>nan</td>\n",
       "      <td>2</td>\n",
       "    </tr>\n",
       "    <tr>\n",
       "      <th>496</th>\n",
       "      <td>1.0737448201236788e-05</td>\n",
       "      <td>nan</td>\n",
       "      <td>0.09872704568950108</td>\n",
       "      <td>0.06421381260321413</td>\n",
       "      <td>nan</td>\n",
       "      <td>2</td>\n",
       "    </tr>\n",
       "    <tr>\n",
       "      <th>497</th>\n",
       "      <td>6.75703351453727e-05</td>\n",
       "      <td>nan</td>\n",
       "      <td>0.07484809757498778</td>\n",
       "      <td>0.009482801446690003</td>\n",
       "      <td>nan</td>\n",
       "      <td>2</td>\n",
       "    </tr>\n",
       "    <tr>\n",
       "      <th>498</th>\n",
       "      <td>1.986801586029152e-06</td>\n",
       "      <td>nan</td>\n",
       "      <td>0.10901747414510232</td>\n",
       "      <td>0.004324369870419176</td>\n",
       "      <td>nan</td>\n",
       "      <td>2</td>\n",
       "    </tr>\n",
       "    <tr>\n",
       "      <th>499</th>\n",
       "      <td>3.128994675249963e-06</td>\n",
       "      <td>nan</td>\n",
       "      <td>0.10737565630478674</td>\n",
       "      <td>0.00668927301727873</td>\n",
       "      <td>nan</td>\n",
       "      <td>2</td>\n",
       "    </tr>\n",
       "  </tbody>\n",
       "</table>\n",
       "<p>500 rows × 6 columns</p>\n",
       "</div>"
      ],
      "text/plain": [
       "    Cosine Similarity to Cluster 0 Cosine Similarity to Cluster 1  \\\n",
       "0           4.5583202166188386e-06                            nan   \n",
       "1                              0.0                            nan   \n",
       "2            3.501293787033788e-05                            nan   \n",
       "3            3.934667201721531e-06                            nan   \n",
       "4            5.661633320164228e-06                            nan   \n",
       "..                             ...                            ...   \n",
       "495                            0.0                            nan   \n",
       "496         1.0737448201236788e-05                            nan   \n",
       "497           6.75703351453727e-05                            nan   \n",
       "498          1.986801586029152e-06                            nan   \n",
       "499          3.128994675249963e-06                            nan   \n",
       "\n",
       "    Cosine Similarity to Cluster 2 Cosine Similarity to Cluster 3  \\\n",
       "0               0.1763707070454703            0.01375277656698004   \n",
       "1              0.10411406895945108             0.0139558234318784   \n",
       "2              0.13244807056448837           0.006756922478133642   \n",
       "3             0.060113302434285254           0.003052568244018339   \n",
       "4               0.1989123427197792            0.01974662329260468   \n",
       "..                             ...                            ...   \n",
       "495            0.11168157179985272           0.006488193301328993   \n",
       "496            0.09872704568950108            0.06421381260321413   \n",
       "497            0.07484809757498778           0.009482801446690003   \n",
       "498            0.10901747414510232           0.004324369870419176   \n",
       "499            0.10737565630478674            0.00668927301727873   \n",
       "\n",
       "    Cosine Similarity to Cluster 4  Predicted Cluster  \n",
       "0                              nan                  2  \n",
       "1                              nan                  2  \n",
       "2                              nan                  2  \n",
       "3                              nan                  2  \n",
       "4                              nan                  2  \n",
       "..                             ...                ...  \n",
       "495                            nan                  2  \n",
       "496                            nan                  2  \n",
       "497                            nan                  2  \n",
       "498                            nan                  2  \n",
       "499                            nan                  2  \n",
       "\n",
       "[500 rows x 6 columns]"
      ]
     },
     "execution_count": 46,
     "metadata": {},
     "output_type": "execute_result"
    }
   ],
   "source": [
    "pd.options.display.max_rows = 50\n",
    "print(\"Categorized test data shape \",test_cluster.shape)\n",
    "\n",
    "test_cluster"
   ]
  },
  {
   "cell_type": "code",
   "execution_count": null,
   "metadata": {},
   "outputs": [],
   "source": []
  }
 ],
 "metadata": {
  "kernelspec": {
   "display_name": "Python 3",
   "language": "python",
   "name": "python3"
  },
  "language_info": {
   "codemirror_mode": {
    "name": "ipython",
    "version": 3
   },
   "file_extension": ".py",
   "mimetype": "text/x-python",
   "name": "python",
   "nbconvert_exporter": "python",
   "pygments_lexer": "ipython3",
   "version": "3.7.3"
  }
 },
 "nbformat": 4,
 "nbformat_minor": 2
}
